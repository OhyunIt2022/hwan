{
  "nbformat": 4,
  "nbformat_minor": 0,
  "metadata": {
    "colab": {
      "name": "07_27.ipynb",
      "provenance": []
    },
    "kernelspec": {
      "name": "python3",
      "display_name": "Python 3"
    },
    "language_info": {
      "name": "python"
    }
  },
  "cells": [
    {
      "cell_type": "markdown",
      "source": [
        "# 함수\n",
        "함수란 어떤 기능을 제공하는 것 \n",
        "우리가 이전 시간에 만들었던 계산기를 살펴 보겠습니다."
      ],
      "metadata": {
        "id": "wjWIRvHMFVsr"
      }
    },
    {
      "cell_type": "code",
      "execution_count": 2,
      "metadata": {
        "colab": {
          "base_uri": "https://localhost:8080/"
        },
        "id": "HMzM5CPOE4lN",
        "outputId": "900bb31b-d595-462e-a150-b85a4359daad"
      },
      "outputs": [
        {
          "output_type": "stream",
          "name": "stdout",
          "text": [
            "사칙 연산 기호(+ - * /)를 입력해주세요./\n",
            "첫번째 숫자를 입력해주세요.4\n",
            "두번째 숫자를 입력해주세요.2\n",
            "나누기 입니다.\n",
            "2.0\n",
            "종료하려면 1을 입력해주세요.1\n",
            "종료합니다.\n"
          ]
        }
      ],
      "source": [
        "# ex) f(x) = x+2 -> f(x) print() 처럼 생김 print()는 함수다.\n",
        "\n",
        "while True:\n",
        "    #입력값 받기\n",
        "    a = input(\"사칙 연산 기호(+ - * /)를 입력해주세요.\")\n",
        "    b = int(input(\"첫번째 숫자를 입력해주세요.\"))\n",
        "    c = int(input(\"두번째 숫자를 입력해주세요.\"))\n",
        "    #계산 및 출력\n",
        "    if a== \"+\":\n",
        "        print(\"더하기 입니다.\")\n",
        "        print(b+c)\n",
        "    elif a==\"-\":\n",
        "        print(\"빼기 입니다.\")\n",
        "        print(b-c)\n",
        "    elif a==\"*\":\n",
        "        print(\"곱하기 입니다.\")\n",
        "        print(b*c)\n",
        "    elif a==\"/\":\n",
        "        print(\"나누기 입니다.\")\n",
        "        print(b/c)\n",
        "    #종료 여부 확인\n",
        "    d = input(\"종료하려면 1을 계속하려면 2를 입력해주세요.\")\n",
        "    if d ==\"1\":\n",
        "        print(\"종료합니다.\")\n",
        "        break\n",
        "    elif d ==\"2\":\n",
        "        continue"
      ]
    },
    {
      "cell_type": "code",
      "source": [
        "\"\"\"\n",
        "while True:\n",
        "    1.입력 값 받기\n",
        "    2.계산 및 출력\n",
        "    3. 종료 여부 확인\n",
        "\"\"\""
      ],
      "metadata": {
        "colab": {
          "base_uri": "https://localhost:8080/",
          "height": 35
        },
        "id": "DN1R-cAKIHgZ",
        "outputId": "ae93e6c6-a092-4f6c-ac44-c01cb387ce74"
      },
      "execution_count": 6,
      "outputs": [
        {
          "output_type": "execute_result",
          "data": {
            "text/plain": [
              "'\\nwhile True:\\n    1.입력 값 받기\\n    2.계산 및 출력\\n    3. 종료 여부 확인\\n'"
            ],
            "application/vnd.google.colaboratory.intrinsic+json": {
              "type": "string"
            }
          },
          "metadata": {},
          "execution_count": 6
        }
      ]
    },
    {
      "cell_type": "code",
      "source": [
        "#함수 만들기\n",
        "\"\"\"\n",
        "def 함수명(매개변수):\n",
        "    수행할 문장(logic)\n",
        "    return 결과값\n",
        "\"\"\""
      ],
      "metadata": {
        "colab": {
          "base_uri": "https://localhost:8080/",
          "height": 35
        },
        "id": "_95Vb47hI8zq",
        "outputId": "05263bfd-ba5a-4858-b9f4-3730c30f31ce"
      },
      "execution_count": 7,
      "outputs": [
        {
          "output_type": "execute_result",
          "data": {
            "text/plain": [
              "'\\ndef 함수명(매개변수):\\n    수행할 문장(logic)\\n    return 결과값\\n'"
            ],
            "application/vnd.google.colaboratory.intrinsic+json": {
              "type": "string"
            }
          },
          "metadata": {},
          "execution_count": 7
        }
      ]
    },
    {
      "cell_type": "code",
      "source": [
        "#변수 = print(\"안녕하세요.\")\n",
        "#-> 실행하면 print 는 되는데 리턴 값이 없기 때문에 변수에는 아무것도 들어가지 않는다."
      ],
      "metadata": {
        "id": "q_uLdex0Kcx9"
      },
      "execution_count": 8,
      "outputs": []
    },
    {
      "cell_type": "code",
      "source": [
        "#함수 만들기, 함수 정의, 함수 선언\n",
        "def hello():\n",
        "    print(\"안녕하세요.\")"
      ],
      "metadata": {
        "id": "m2ccdcIELHwr"
      },
      "execution_count": 11,
      "outputs": []
    },
    {
      "cell_type": "code",
      "source": [
        "hello()"
      ],
      "metadata": {
        "colab": {
          "base_uri": "https://localhost:8080/"
        },
        "id": "Q5qB6Ag0LMD1",
        "outputId": "7cf82125-9468-4588-8952-0a88b721334a"
      },
      "execution_count": 12,
      "outputs": [
        {
          "output_type": "stream",
          "name": "stdout",
          "text": [
            "안녕하세요.\n"
          ]
        }
      ]
    },
    {
      "cell_type": "code",
      "source": [
        "def hello_to_name(name):\n",
        "    print(name,\"님 안녕하세요.\")"
      ],
      "metadata": {
        "id": "iz-RO72pLPfW"
      },
      "execution_count": 13,
      "outputs": []
    },
    {
      "cell_type": "code",
      "source": [
        "hello_to_name(\"h\")"
      ],
      "metadata": {
        "colab": {
          "base_uri": "https://localhost:8080/"
        },
        "id": "aNMk29iaLdJr",
        "outputId": "c1f61f53-5bed-40b2-acc6-1d5dca1a5579"
      },
      "execution_count": 14,
      "outputs": [
        {
          "output_type": "stream",
          "name": "stdout",
          "text": [
            "h 님 안녕하세요.\n"
          ]
        }
      ]
    },
    {
      "cell_type": "code",
      "source": [
        "def add(num,num2):\n",
        "    result = num + num2 #return을 안하면 자동으로 return None이 생략되어 있는 것이다. 리턴값이 없는게 맞는데, 없는걸 표현해주기위해서 None을 리턴하는 것이다."
      ],
      "metadata": {
        "id": "JtECcmFyLiur"
      },
      "execution_count": 24,
      "outputs": []
    },
    {
      "cell_type": "code",
      "source": [
        "add(1,2)"
      ],
      "metadata": {
        "id": "HzWhWjlKL092"
      },
      "execution_count": 25,
      "outputs": []
    },
    {
      "cell_type": "code",
      "source": [
        "addResult = add(1,2)"
      ],
      "metadata": {
        "id": "R4FJztyKL5QG"
      },
      "execution_count": 26,
      "outputs": []
    },
    {
      "cell_type": "code",
      "source": [
        "print(addResult) #함수가 값을 계산했지만 리턴 값이 없어서 저장이 안됨."
      ],
      "metadata": {
        "colab": {
          "base_uri": "https://localhost:8080/"
        },
        "id": "vNmvoVVJL6aP",
        "outputId": "01e691ef-08da-4e1d-c5fa-4e98bf9d0ed2"
      },
      "execution_count": 27,
      "outputs": [
        {
          "output_type": "stream",
          "name": "stdout",
          "text": [
            "None\n"
          ]
        }
      ]
    },
    {
      "cell_type": "code",
      "source": [
        "def add2(num,num2):\n",
        "    result = num + num2\n",
        "    return result\n",
        "    #return을 하면 함수가 종료된다."
      ],
      "metadata": {
        "id": "2gz7ZZPiMEjy"
      },
      "execution_count": 28,
      "outputs": []
    },
    {
      "cell_type": "code",
      "source": [
        "addResult2 = add2(1,2)"
      ],
      "metadata": {
        "id": "napH0GCLMOr8"
      },
      "execution_count": 29,
      "outputs": []
    },
    {
      "cell_type": "code",
      "source": [
        "print(addResult2)"
      ],
      "metadata": {
        "colab": {
          "base_uri": "https://localhost:8080/"
        },
        "id": "Xj2HSff9MVpB",
        "outputId": "d80ad630-9f68-4a31-94af-cc3c21eb8718"
      },
      "execution_count": 30,
      "outputs": [
        {
          "output_type": "stream",
          "name": "stdout",
          "text": [
            "3\n"
          ]
        }
      ]
    },
    {
      "cell_type": "code",
      "source": [
        "def add3(num,num2):\n",
        "    result = num + num2\n",
        "    return result\n",
        "    print(\"hi\")"
      ],
      "metadata": {
        "id": "AckNrE5dMXW-"
      },
      "execution_count": 31,
      "outputs": []
    },
    {
      "cell_type": "code",
      "source": [
        "add3(1,2)"
      ],
      "metadata": {
        "colab": {
          "base_uri": "https://localhost:8080/"
        },
        "id": "c6PlEwoyNeAU",
        "outputId": "4e20e4a2-1b8a-49e3-ad4c-1deb4e69e26a"
      },
      "execution_count": 32,
      "outputs": [
        {
          "output_type": "execute_result",
          "data": {
            "text/plain": [
              "3"
            ]
          },
          "metadata": {},
          "execution_count": 32
        }
      ]
    },
    {
      "cell_type": "code",
      "source": [
        "#-> 반환 했으니까 밑에 있는 print(\"hi\")가 실행되지 않는다. //조건문을 사용하면 원할 때 멈출 수 있다."
      ],
      "metadata": {
        "id": "dQlgd5yvNfp-"
      },
      "execution_count": 34,
      "outputs": []
    },
    {
      "cell_type": "code",
      "source": [
        "def X빼기Y(y,x):\n",
        "    a = x-y\n",
        "    print(a)"
      ],
      "metadata": {
        "id": "M9xn9ec9NpAe"
      },
      "execution_count": 36,
      "outputs": []
    },
    {
      "cell_type": "code",
      "source": [
        "X빼기Y(20,10)"
      ],
      "metadata": {
        "colab": {
          "base_uri": "https://localhost:8080/"
        },
        "id": "puyXre0GN_A_",
        "outputId": "b147c82e-9388-49da-d8af-e12577da033f"
      },
      "execution_count": 37,
      "outputs": [
        {
          "output_type": "stream",
          "name": "stdout",
          "text": [
            "-10\n"
          ]
        }
      ]
    },
    {
      "cell_type": "code",
      "source": [
        "#-> 매개변수를 (y,x)로 했기 때문이다.\n",
        "#매개변수를 함수에 넣을 때 매개변수명을 지정할 수 있다.\n",
        "X빼기Y(x=20, y=10)"
      ],
      "metadata": {
        "colab": {
          "base_uri": "https://localhost:8080/"
        },
        "id": "SR4qDfcyOHwr",
        "outputId": "4d8827a5-b751-4417-bb37-2c4afd5b4d3e"
      },
      "execution_count": 38,
      "outputs": [
        {
          "output_type": "stream",
          "name": "stdout",
          "text": [
            "10\n"
          ]
        }
      ]
    },
    {
      "cell_type": "code",
      "source": [
        "def add2(num,num2):\n",
        "    result = num + num2\n",
        "    result2 = num - num2\n",
        "    return result, result2 #()로 안묶어도 알아서 튜를로 인식"
      ],
      "metadata": {
        "id": "pOHbupyeOUpt"
      },
      "execution_count": 39,
      "outputs": []
    },
    {
      "cell_type": "code",
      "source": [
        "a = add2(2,4)\n",
        "print(a)"
      ],
      "metadata": {
        "colab": {
          "base_uri": "https://localhost:8080/"
        },
        "id": "UthWvN7LSsPg",
        "outputId": "e00ed5f9-4054-417d-d91d-ca81dfe1eccc"
      },
      "execution_count": 40,
      "outputs": [
        {
          "output_type": "stream",
          "name": "stdout",
          "text": [
            "(6, -2)\n"
          ]
        }
      ]
    },
    {
      "cell_type": "code",
      "source": [
        "def add2(num,num2):\n",
        "    result = num + num2\n",
        "    result2 = num - num2\n",
        "    result3 = (result, result2)\n",
        "    return result3"
      ],
      "metadata": {
        "id": "r9hZxhQuSwZl"
      },
      "execution_count": 48,
      "outputs": []
    },
    {
      "cell_type": "code",
      "source": [
        "x = add2(3,4)\n",
        "print(x)"
      ],
      "metadata": {
        "colab": {
          "base_uri": "https://localhost:8080/"
        },
        "id": "EUydkHFbTBCH",
        "outputId": "5bd1c56d-1e30-48a7-9149-80a6d818a0f6"
      },
      "execution_count": 49,
      "outputs": [
        {
          "output_type": "stream",
          "name": "stdout",
          "text": [
            "(7, -1)\n"
          ]
        }
      ]
    },
    {
      "cell_type": "code",
      "source": [
        "def 덧셈뺄셈(x,y):\n",
        "    덧셈결과 = x+y\n",
        "    뺄셈결과 = x-y\n",
        "    return 덧셈결과, 뺄셈결과\n",
        "함수실행_결과 = 덧셈뺄셈(20,10)\n",
        "print(함수실행_결과)\n",
        "print(type(함수실행_결과))\n",
        "print(함수실행_결과[0],함수실행_결과[1])\n",
        "덧셈결과 = 함수실행_결과[0]\n",
        "뺄셈결과 = 함수실행_결과[1]\n",
        "print(덧셈결과)\n",
        "print(뺄셈결과)"
      ],
      "metadata": {
        "colab": {
          "base_uri": "https://localhost:8080/"
        },
        "id": "6sPVyKe4Tkao",
        "outputId": "3e56b12a-209f-4c81-c862-64c15b6b4d35"
      },
      "execution_count": 50,
      "outputs": [
        {
          "output_type": "stream",
          "name": "stdout",
          "text": [
            "(30, 10)\n",
            "<class 'tuple'>\n",
            "30 10\n",
            "30\n",
            "10\n"
          ]
        }
      ]
    },
    {
      "cell_type": "code",
      "source": [
        "#튜플을 아래와 같이 변수에 할당 가능하다.\n",
        "튜플값1, 튜플값2 = (1,2)\n",
        "print(튜플값1)"
      ],
      "metadata": {
        "colab": {
          "base_uri": "https://localhost:8080/"
        },
        "id": "ImgQdTxoTT5O",
        "outputId": "11ea56fa-79f3-413a-cfcc-3364cc50f3ca"
      },
      "execution_count": 51,
      "outputs": [
        {
          "output_type": "stream",
          "name": "stdout",
          "text": [
            "1\n"
          ]
        }
      ]
    },
    {
      "cell_type": "code",
      "source": [
        "덧셈결과, 뺄셈결과 = 덧셈뺄셈(20,10)\n",
        "print(덧셈결과)\n",
        "print(뺄셈결과)"
      ],
      "metadata": {
        "colab": {
          "base_uri": "https://localhost:8080/"
        },
        "id": "e20XCWB3TerW",
        "outputId": "3e047192-a9b0-4fe6-decb-08aad52faf1f"
      },
      "execution_count": 52,
      "outputs": [
        {
          "output_type": "stream",
          "name": "stdout",
          "text": [
            "30\n",
            "10\n"
          ]
        }
      ]
    },
    {
      "cell_type": "code",
      "source": [
        "def 값_입력하기():\n",
        "    a = input(\"사칙 연산 기호(+ - * /)를 입력해주세요.\")\n",
        "    b = int(input(\"첫번째 숫자를 입력해주세요.\"))\n",
        "    c = int(input(\"두번째 숫자를 입력해주세요.\"))\n",
        "    return a,b,c\n",
        "    # a,b,c는 함수 안에서 값을 반환한 후 값이 빈 걸로 바뀜./ 전체에서 사용된 변수를 전역변수라고 한다. a=3 이런 식으로 변수를 설정하고 함수에서 그 a를 그대로 갖다 쓰고 싶으면 global a 로 해서 값을 갖고 올 수 있다.\n",
        "    #함수 속 변수를 지역변수라고 한다."
      ],
      "metadata": {
        "id": "74pi1eHqUeKe"
      },
      "execution_count": 53,
      "outputs": []
    },
    {
      "cell_type": "code",
      "source": [
        "s,d,f = 값_입력하기()"
      ],
      "metadata": {
        "colab": {
          "base_uri": "https://localhost:8080/"
        },
        "id": "MEvqba_bVxNK",
        "outputId": "ede7d8ef-57ce-4f4f-8a31-f6ed0ca85bb1"
      },
      "execution_count": 54,
      "outputs": [
        {
          "name": "stdout",
          "output_type": "stream",
          "text": [
            "사칙 연산 기호(+ - * /)를 입력해주세요./\n",
            "첫번째 숫자를 입력해주세요.2\n",
            "두번째 숫자를 입력해주세요.3\n"
          ]
        }
      ]
    },
    {
      "cell_type": "code",
      "source": [
        "print(s,d,f)"
      ],
      "metadata": {
        "colab": {
          "base_uri": "https://localhost:8080/"
        },
        "id": "-nlDn8A9WFVL",
        "outputId": "db7827d2-7c05-48b3-9c29-e9a77fdcfc19"
      },
      "execution_count": 55,
      "outputs": [
        {
          "output_type": "stream",
          "name": "stdout",
          "text": [
            "/ 2 3\n"
          ]
        }
      ]
    },
    {
      "cell_type": "code",
      "source": [
        "def 계산_및_출력하기(a,b,c):\n",
        "    if a== \"+\":\n",
        "        print(\"더하기 입니다.\")\n",
        "        print(b+c)\n",
        "    elif a==\"-\":\n",
        "        print(\"빼기 입니다.\")\n",
        "        print(b-c)\n",
        "    elif a==\"*\":\n",
        "        print(\"곱하기 입니다.\")\n",
        "        print(b*c)\n",
        "    elif a==\"/\":\n",
        "        print(\"나누기 입니다.\")\n",
        "        print(b/c)"
      ],
      "metadata": {
        "id": "E1XtjmgwVoNf"
      },
      "execution_count": 57,
      "outputs": []
    },
    {
      "cell_type": "code",
      "source": [
        "계산_및_출력하기(s,d,f)"
      ],
      "metadata": {
        "colab": {
          "base_uri": "https://localhost:8080/"
        },
        "id": "l7X1kF81W6dO",
        "outputId": "b40ef810-88dd-4d14-bf43-35fda39d8226"
      },
      "execution_count": 58,
      "outputs": [
        {
          "output_type": "stream",
          "name": "stdout",
          "text": [
            "나누기 입니다.\n",
            "0.6666666666666666\n"
          ]
        }
      ]
    },
    {
      "cell_type": "code",
      "source": [
        "def 종료_여부_확인():\n",
        "    종료여부 = input(\"종료하려면 1을 입력해주세요.\")\n",
        "    return 종료여부==\"1\""
      ],
      "metadata": {
        "id": "MwfAgQDKW_D7"
      },
      "execution_count": 60,
      "outputs": []
    },
    {
      "cell_type": "code",
      "source": [
        "종료_여부_확인() #True 파이썬은 리턴 값이 있으면 True라고 나오면서 리턴값이 있음을 보여준다."
      ],
      "metadata": {
        "colab": {
          "base_uri": "https://localhost:8080/"
        },
        "id": "BiI6Q1qpXUjD",
        "outputId": "f1e86185-b050-455a-bb7d-ff84053f7da7"
      },
      "execution_count": 64,
      "outputs": [
        {
          "name": "stdout",
          "output_type": "stream",
          "text": [
            "종료하려면 1을 입력해주세요.1\n"
          ]
        },
        {
          "output_type": "execute_result",
          "data": {
            "text/plain": [
              "True"
            ]
          },
          "metadata": {},
          "execution_count": 64
        }
      ]
    },
    {
      "cell_type": "code",
      "source": [
        "종료_여부_확인()"
      ],
      "metadata": {
        "colab": {
          "base_uri": "https://localhost:8080/"
        },
        "id": "h5KzG2zhXmWA",
        "outputId": "b223f48b-64d6-4e0d-f60b-c744fb54484a"
      },
      "execution_count": 65,
      "outputs": [
        {
          "name": "stdout",
          "output_type": "stream",
          "text": [
            "종료하려면 1을 입력해주세요.10\n"
          ]
        },
        {
          "output_type": "execute_result",
          "data": {
            "text/plain": [
              "False"
            ]
          },
          "metadata": {},
          "execution_count": 65
        }
      ]
    },
    {
      "cell_type": "code",
      "source": [
        "while True:\n",
        "\n",
        "    s,d,f = 값_입력하기()\n",
        "    계산_및_출력하기(s,d,f)\n",
        "    종료여부 = 종료_여부_확인()\n",
        "    if 종료여부:\n",
        "        break"
      ],
      "metadata": {
        "colab": {
          "base_uri": "https://localhost:8080/"
        },
        "id": "ZIa3r2-zXqnv",
        "outputId": "a9ff0a5a-4315-4aba-b8d3-e4c0709da0bb"
      },
      "execution_count": 66,
      "outputs": [
        {
          "name": "stdout",
          "output_type": "stream",
          "text": [
            "사칙 연산 기호(+ - * /)를 입력해주세요./\n",
            "첫번째 숫자를 입력해주세요.3\n",
            "두번째 숫자를 입력해주세요.3\n",
            "나누기 입니다.\n",
            "1.0\n",
            "종료하려면 1을 입력해주세요.1\n"
          ]
        }
      ]
    },
    {
      "cell_type": "code",
      "source": [
        "#함수 -> 재사용, 가독성을 위해 사용함!"
      ],
      "metadata": {
        "id": "SaWC_d_iZHJW"
      },
      "execution_count": 67,
      "outputs": []
    },
    {
      "cell_type": "code",
      "source": [
        "def 계산기():\n",
        "    while True:\n",
        "        s,d,f = 값_입력하기()\n",
        "        계산_및_출력하기(s,d,f)\n",
        "        종료여부 = 종료_여부_확인()\n",
        "        if 종료여부:\n",
        "            break"
      ],
      "metadata": {
        "id": "1o-_hb-EZs5p"
      },
      "execution_count": 68,
      "outputs": []
    },
    {
      "cell_type": "code",
      "source": [
        "계산기()"
      ],
      "metadata": {
        "colab": {
          "base_uri": "https://localhost:8080/"
        },
        "id": "WqdACG_TZ5VS",
        "outputId": "0e521470-fa72-4fd1-bb6d-a0d3822ea2fc"
      },
      "execution_count": 69,
      "outputs": [
        {
          "name": "stdout",
          "output_type": "stream",
          "text": [
            "사칙 연산 기호(+ - * /)를 입력해주세요./\n",
            "첫번째 숫자를 입력해주세요.3\n",
            "두번째 숫자를 입력해주세요.4\n",
            "나누기 입니다.\n",
            "0.75\n",
            "종료하려면 1을 입력해주세요.1\n"
          ]
        }
      ]
    },
    {
      "cell_type": "markdown",
      "source": [
        "#파이썬 class"
      ],
      "metadata": {
        "id": "kk_C0mgGiuE5"
      }
    },
    {
      "cell_type": "code",
      "source": [
        "num = 1  #num -> int class에 포함되어 있는 인스턴스\n",
        "print(type(num))"
      ],
      "metadata": {
        "colab": {
          "base_uri": "https://localhost:8080/"
        },
        "id": "TAerck7lZ6cu",
        "outputId": "03e24878-da2a-4bcd-f942-f955c5c92a1c"
      },
      "execution_count": 70,
      "outputs": [
        {
          "output_type": "stream",
          "name": "stdout",
          "text": [
            "<class 'int'>\n"
          ]
        }
      ]
    },
    {
      "cell_type": "code",
      "source": [
        "string = \"hello\"\n",
        "print(type(string))"
      ],
      "metadata": {
        "colab": {
          "base_uri": "https://localhost:8080/"
        },
        "id": "cN4ezLfDi0Dn",
        "outputId": "baf7f862-39df-44a4-bb5a-809fefb269cc"
      },
      "execution_count": 71,
      "outputs": [
        {
          "output_type": "stream",
          "name": "stdout",
          "text": [
            "<class 'str'>\n"
          ]
        }
      ]
    },
    {
      "cell_type": "code",
      "source": [
        "\"\"\"\n",
        "클래스란 어떤 것을 표현하기 위한 방법\n",
        "어떤 클래스에 포함되는 무언가를 인스턴스(instance)라고 한다.\n",
        "\"\"\""
      ],
      "metadata": {
        "colab": {
          "base_uri": "https://localhost:8080/",
          "height": 35
        },
        "id": "aj8l5gPqi91C",
        "outputId": "10f4bcbe-7a86-42c9-c7bc-b77271504081"
      },
      "execution_count": 72,
      "outputs": [
        {
          "output_type": "execute_result",
          "data": {
            "text/plain": [
              "'\\n클래스란 어떤 것을 표현하기 위한 방법\\n어떤 클래스에 포함되는 무언가를 인스턴스(instance)라고 한다.\\n'"
            ],
            "application/vnd.google.colaboratory.intrinsic+json": {
              "type": "string"
            }
          },
          "metadata": {},
          "execution_count": 72
        }
      ]
    },
    {
      "cell_type": "code",
      "source": [
        "class Animal:\n",
        "    pass #pass는 뒤에 뭔가 있어야 해서 넣는거 아무런 의미도 없다"
      ],
      "metadata": {
        "id": "LofkuQX1jS5X"
      },
      "execution_count": 74,
      "outputs": []
    },
    {
      "cell_type": "code",
      "source": [
        "animal = Animal()\n",
        "print(type(animal))"
      ],
      "metadata": {
        "colab": {
          "base_uri": "https://localhost:8080/"
        },
        "id": "i3ls_rKJjgJ5",
        "outputId": "eecb554c-0dc4-41dd-86de-5cb21d7e47dd"
      },
      "execution_count": 75,
      "outputs": [
        {
          "output_type": "stream",
          "name": "stdout",
          "text": [
            "<class '__main__.Animal'>\n"
          ]
        }
      ]
    },
    {
      "cell_type": "code",
      "source": [
        "# -> main이라는 것은 코드가 실행되는 최상위 환경을 보여준다. 실행되는 메인 환경의 Animal class 라고 생각하면 된다."
      ],
      "metadata": {
        "id": "xs9STwHhjtip"
      },
      "execution_count": 76,
      "outputs": []
    },
    {
      "cell_type": "code",
      "source": [
        "class Animal:\n",
        "    kor = \"동물\"\n",
        "    def 숨쉬기():\n",
        "        print(\"숨을 쉽니다.\")\n",
        "    def 움직이기():\n",
        "        print(\"몸을 움직입니다.\")"
      ],
      "metadata": {
        "id": "1RNtf0f_j_iN"
      },
      "execution_count": 77,
      "outputs": []
    },
    {
      "cell_type": "code",
      "source": [
        "개 = Animal()"
      ],
      "metadata": {
        "id": "Fz9pTYvUkLbH"
      },
      "execution_count": 78,
      "outputs": []
    },
    {
      "cell_type": "code",
      "source": [
        "print(type(개))\n",
        "Animal.숨쉬기() # ->Animal 은 class 그 자체, 그 안에 들어있는 메쏘드들을 사용할 수 있다.\n",
        "Animal.움직이기()\n",
        "print(\"=========================\")\n",
        "#개.숨쉬기() # -> class 클래스에서 함수를 실행하려 하는 거슨 잘 동작하는데 인스턴스에서 함수를 사용하려고 하니 문제가 발생 -> 파이썬의 특징 따랴서 class를 만들 때 self 를 적어줘야함\n",
        "#개.움직이기()"
      ],
      "metadata": {
        "colab": {
          "base_uri": "https://localhost:8080/",
          "height": 299
        },
        "id": "iqwhNr11kOc2",
        "outputId": "4afef9d1-6156-434f-e2a5-afeb8e85acae"
      },
      "execution_count": 82,
      "outputs": [
        {
          "output_type": "stream",
          "name": "stdout",
          "text": [
            "<class '__main__.Animal'>\n",
            "숨을 쉽니다.\n",
            "몸을 움직입니다.\n",
            "=========================\n"
          ]
        },
        {
          "output_type": "error",
          "ename": "TypeError",
          "evalue": "ignored",
          "traceback": [
            "\u001b[0;31m---------------------------------------------------------------------------\u001b[0m",
            "\u001b[0;31mTypeError\u001b[0m                                 Traceback (most recent call last)",
            "\u001b[0;32m<ipython-input-82-47342b871815>\u001b[0m in \u001b[0;36m<module>\u001b[0;34m()\u001b[0m\n\u001b[1;32m      3\u001b[0m \u001b[0mAnimal\u001b[0m\u001b[0;34m.\u001b[0m\u001b[0m움직이기\u001b[0m\u001b[0;34m(\u001b[0m\u001b[0;34m)\u001b[0m\u001b[0;34m\u001b[0m\u001b[0;34m\u001b[0m\u001b[0m\n\u001b[1;32m      4\u001b[0m \u001b[0mprint\u001b[0m\u001b[0;34m(\u001b[0m\u001b[0;34m\"=========================\"\u001b[0m\u001b[0;34m)\u001b[0m\u001b[0;34m\u001b[0m\u001b[0;34m\u001b[0m\u001b[0m\n\u001b[0;32m----> 5\u001b[0;31m \u001b[0m개\u001b[0m\u001b[0;34m.\u001b[0m\u001b[0m숨쉬기\u001b[0m\u001b[0;34m(\u001b[0m\u001b[0;34m)\u001b[0m \u001b[0;31m# -> class 클래스에서 함수를 실행하려 하는 거슨 잘 동작하는데 인스턴스에서 함수를 사용하려고 하니 문제가 발생 -> 파이썬의 특징 따랴서 class를 만들 때 self 를 적어줘야함\u001b[0m\u001b[0;34m\u001b[0m\u001b[0;34m\u001b[0m\u001b[0m\n\u001b[0m\u001b[1;32m      6\u001b[0m \u001b[0m개\u001b[0m\u001b[0;34m.\u001b[0m\u001b[0m움직이기\u001b[0m\u001b[0;34m(\u001b[0m\u001b[0;34m)\u001b[0m\u001b[0;34m\u001b[0m\u001b[0;34m\u001b[0m\u001b[0m\n",
            "\u001b[0;31mTypeError\u001b[0m: 숨쉬기() takes 0 positional arguments but 1 was given"
          ]
        }
      ]
    },
    {
      "cell_type": "code",
      "source": [
        "class Animal:\n",
        "    kor =\"동물\"\n",
        "    def 숨쉬기(self): #self => Animal 인 인스턴스는 숨쉬기를 할 수 있다\n",
        "        print(\"숨을 쉽니다.\")\n",
        "    def 움직이기(self):\n",
        "        print(\"몸을 움직이빈다.\")\n",
        "    def 말하기(self, 문장):\n",
        "        print(문장)"
      ],
      "metadata": {
        "id": "rai3Hh5gkRE_"
      },
      "execution_count": 87,
      "outputs": []
    },
    {
      "cell_type": "code",
      "source": [
        "animal = Animal()\n",
        "animal.숨쉬기()\n",
        "animal.움직이기()\n",
        "animal.말하기(\"안녕하세요.\")\n",
        "print(animal.kor)"
      ],
      "metadata": {
        "colab": {
          "base_uri": "https://localhost:8080/"
        },
        "id": "D80jwIT6lgs_",
        "outputId": "eaa697ab-1646-49b8-8b57-765e02e16a9e"
      },
      "execution_count": 88,
      "outputs": [
        {
          "output_type": "stream",
          "name": "stdout",
          "text": [
            "숨을 쉽니다.\n",
            "몸을 움직이빈다.\n",
            "안녕하세요.\n",
            "동물\n"
          ]
        }
      ]
    },
    {
      "cell_type": "markdown",
      "source": [
        "## 생성자, 소멸자"
      ],
      "metadata": {
        "id": "A99f7OXrnOxZ"
      }
    },
    {
      "cell_type": "code",
      "source": [
        "#class는 생성자와 소멸자라는 기능을 지니고 있다.=> 클래스로 만들어진 인스턴스는 생명 주기를 가지고 있다. 클래스 -> 객체 지향 프로그래밍에서 많이 사용"
      ],
      "metadata": {
        "id": "AHL36zLPlpAH"
      },
      "execution_count": 110,
      "outputs": []
    },
    {
      "cell_type": "code",
      "source": [
        "class Animal:\n",
        "    kor =\"동물\"\n",
        "    def __init__(self): # 인스턴스를 만들 때 필요한 로직을 넣을 수 있다.\n",
        "        print(\"태어났습니다.\")\n",
        "    def 숨쉬기(self): #self => Animal 인 인스턴스는 숨쉬기를 할 수 있다\n",
        "        print(\"숨을 쉽니다.\")\n",
        "    def 움직이기(self):\n",
        "        print(\"몸을 움직이빈다.\")\n",
        "    def 말하기(self, 문장):\n",
        "        print(문장)\n",
        "    def __del__(self):\n",
        "        print(\"죽었습니다.\")"
      ],
      "metadata": {
        "id": "hCmWAgLymQtB"
      },
      "execution_count": 111,
      "outputs": []
    },
    {
      "cell_type": "code",
      "source": [
        "animal = Animal() #__init__ initialize 초기화 될 때 "
      ],
      "metadata": {
        "colab": {
          "base_uri": "https://localhost:8080/"
        },
        "id": "hbqL2IPjmagj",
        "outputId": "83d59fdb-9c4a-4400-c3e3-c160a72001fb"
      },
      "execution_count": 112,
      "outputs": [
        {
          "output_type": "stream",
          "name": "stdout",
          "text": [
            "태어났습니다.\n"
          ]
        }
      ]
    },
    {
      "cell_type": "code",
      "source": [
        "print(type(animal))"
      ],
      "metadata": {
        "colab": {
          "base_uri": "https://localhost:8080/"
        },
        "id": "m5uLSM6Fm_mg",
        "outputId": "8a6ed91b-3804-47ba-a651-3d1f3e9d12ce"
      },
      "execution_count": 113,
      "outputs": [
        {
          "output_type": "stream",
          "name": "stdout",
          "text": [
            "<class '__main__.Animal'>\n"
          ]
        }
      ]
    },
    {
      "cell_type": "code",
      "source": [
        "del animal"
      ],
      "metadata": {
        "colab": {
          "base_uri": "https://localhost:8080/"
        },
        "id": "V3JTdxo1mdjL",
        "outputId": "98619852-7e94-4613-d724-c98d4697ae36"
      },
      "execution_count": 114,
      "outputs": [
        {
          "output_type": "stream",
          "name": "stdout",
          "text": [
            "죽었습니다.\n"
          ]
        }
      ]
    },
    {
      "cell_type": "code",
      "source": [
        "#print(type(animal)) # del해서 삭제됨."
      ],
      "metadata": {
        "id": "KnNzsmNkmefH"
      },
      "execution_count": 117,
      "outputs": []
    },
    {
      "cell_type": "code",
      "source": [
        "class Animal: #self는 내가 만든 인스턴스가 무엇 인지를 의미\n",
        "    kor =\"동물\"\n",
        "    def __init__(self,키,생일): # 인스턴스를 만들 때 필요한 로직을 넣을 수 있다.\n",
        "        self.키 = 키\n",
        "        self.생일 = 생일\n",
        "        print(\"태어났습니다.\")\n",
        "    def 키얻기(self):\n",
        "        print(f\"키는{self.키}cm 입니다.\") #self.키 = 나 자신의 키: 생성자에서 받은 키/ f = format => f\"문자열\"{변수}\"문자열\" 이런 형식으로 쓸 수 있다. +사용안하고 이어서 쓸 수 있게 해준다.\n",
        "    def 생일얻기(self):\n",
        "        print(f\"생일은{self.생일} 입니다.\")\n",
        "    def 숨쉬기(self): #self => Animal 인 인스턴스는 숨쉬기를 할 수 있다\n",
        "        print(\"숨을 쉽니다.\")\n",
        "    def 움직이기(self):\n",
        "        print(\"몸을 움직이빈다.\")\n",
        "    def 말하기(self, 문장):\n",
        "        print(문장)\n",
        "    def __del__(self):\n",
        "        print(\"죽었습니다.\")"
      ],
      "metadata": {
        "id": "FdDFa9N5m8oY"
      },
      "execution_count": 130,
      "outputs": []
    },
    {
      "cell_type": "code",
      "source": [
        "animal =Animal(키=30, 생일=20220727) #->생성자 animal은 Animal 클래스의 인스턴스\n",
        "print(animal.키)\n",
        "animal.키얻기()"
      ],
      "metadata": {
        "colab": {
          "base_uri": "https://localhost:8080/"
        },
        "id": "za6RLxvjotZc",
        "outputId": "31b61627-0645-49af-98dd-6136e4f94ad7"
      },
      "execution_count": 131,
      "outputs": [
        {
          "output_type": "stream",
          "name": "stdout",
          "text": [
            "태어났습니다.\n",
            "30\n",
            "키는30cm 입니다.\n"
          ]
        }
      ]
    },
    {
      "cell_type": "code",
      "source": [
        "dir(animal)"
      ],
      "metadata": {
        "colab": {
          "base_uri": "https://localhost:8080/"
        },
        "id": "aUKZUiWxpea_",
        "outputId": "fdd7a73a-db39-456e-e1b1-44d31f7f2c3a"
      },
      "execution_count": 133,
      "outputs": [
        {
          "output_type": "execute_result",
          "data": {
            "text/plain": [
              "['__class__',\n",
              " '__del__',\n",
              " '__delattr__',\n",
              " '__dict__',\n",
              " '__dir__',\n",
              " '__doc__',\n",
              " '__eq__',\n",
              " '__format__',\n",
              " '__ge__',\n",
              " '__getattribute__',\n",
              " '__gt__',\n",
              " '__hash__',\n",
              " '__init__',\n",
              " '__init_subclass__',\n",
              " '__le__',\n",
              " '__lt__',\n",
              " '__module__',\n",
              " '__ne__',\n",
              " '__new__',\n",
              " '__reduce__',\n",
              " '__reduce_ex__',\n",
              " '__repr__',\n",
              " '__setattr__',\n",
              " '__sizeof__',\n",
              " '__str__',\n",
              " '__subclasshook__',\n",
              " '__weakref__',\n",
              " 'kor',\n",
              " '말하기',\n",
              " '생일',\n",
              " '생일얻기',\n",
              " '숨쉬기',\n",
              " '움직이기',\n",
              " '키',\n",
              " '키얻기']"
            ]
          },
          "metadata": {},
          "execution_count": 133
        }
      ]
    },
    {
      "cell_type": "code",
      "source": [
        "print(type(animal.말하기))"
      ],
      "metadata": {
        "colab": {
          "base_uri": "https://localhost:8080/"
        },
        "id": "gmOrgXTbqWda",
        "outputId": "878dfd0e-bc7a-48d6-e532-c6d935498210"
      },
      "execution_count": 134,
      "outputs": [
        {
          "output_type": "stream",
          "name": "stdout",
          "text": [
            "<class 'method'>\n"
          ]
        }
      ]
    },
    {
      "cell_type": "code",
      "source": [
        "#클래스 안에 있는 함수를 메써드라고 부른다."
      ],
      "metadata": {
        "id": "CdWw6tRlqoVQ"
      },
      "execution_count": 135,
      "outputs": []
    },
    {
      "cell_type": "code",
      "source": [
        "class 개(Animal): #개가 Animal이라는 클래스의 걸 상속받음. 따라서 Animal을 부모 개를 자식이라고 부름\n",
        "    def 짖기(self):\n",
        "        print(\"멍\")"
      ],
      "metadata": {
        "id": "qoPqM_xWqzJg"
      },
      "execution_count": 138,
      "outputs": []
    },
    {
      "cell_type": "code",
      "source": [
        "요크셔트리어 = 개(키=30, 생일=\"20220727\")\n",
        "요크셔트리어.짖기()"
      ],
      "metadata": {
        "colab": {
          "base_uri": "https://localhost:8080/"
        },
        "id": "JVI4UIE6q44Y",
        "outputId": "518ee093-e000-448b-9d9e-05868311676d"
      },
      "execution_count": 139,
      "outputs": [
        {
          "output_type": "stream",
          "name": "stdout",
          "text": [
            "태어났습니다.\n",
            "멍\n",
            "죽었습니다.\n"
          ]
        }
      ]
    },
    {
      "cell_type": "code",
      "source": [
        "요크셔트리어.키얻기() #Animal 클래스에걸 상속받았기 때문에 Animal이 갖고 있던 기능을 다 사용할 수 있다."
      ],
      "metadata": {
        "colab": {
          "base_uri": "https://localhost:8080/"
        },
        "id": "U_Dlwmq3rD2A",
        "outputId": "ca0a7f53-8eb5-4b9b-bcbc-6c50ff87d8a8"
      },
      "execution_count": 141,
      "outputs": [
        {
          "output_type": "stream",
          "name": "stdout",
          "text": [
            "키는30cm 입니다.\n"
          ]
        }
      ]
    },
    {
      "cell_type": "code",
      "source": [
        "del 요크셔트리어"
      ],
      "metadata": {
        "colab": {
          "base_uri": "https://localhost:8080/"
        },
        "id": "Tka7TqmPrW0V",
        "outputId": "af28de40-3e54-4018-83ea-04015992ed0c"
      },
      "execution_count": 142,
      "outputs": [
        {
          "output_type": "stream",
          "name": "stdout",
          "text": [
            "죽었습니다.\n"
          ]
        }
      ]
    },
    {
      "cell_type": "code",
      "source": [
        ""
      ],
      "metadata": {
        "id": "wJVfKmFvrq1d"
      },
      "execution_count": null,
      "outputs": []
    }
  ]
}