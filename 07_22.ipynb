{
  "nbformat": 4,
  "nbformat_minor": 0,
  "metadata": {
    "colab": {
      "name": "07_22.ipynb",
      "provenance": []
    },
    "kernelspec": {
      "name": "python3",
      "display_name": "Python 3"
    },
    "language_info": {
      "name": "python"
    }
  },
  "cells": [
    {
      "cell_type": "code",
      "execution_count": null,
      "metadata": {
        "colab": {
          "base_uri": "https://localhost:8080/"
        },
        "id": "s9vqg7Rfh6vm",
        "outputId": "706950c0-44ce-4875-9749-3bf15e0c928d"
      },
      "outputs": [
        {
          "output_type": "stream",
          "name": "stdout",
          "text": [
            "hello world!\n"
          ]
        }
      ],
      "source": [
        "print (\"hello world!\")"
      ]
    },
    {
      "cell_type": "code",
      "source": [
        "print(1)"
      ],
      "metadata": {
        "colab": {
          "base_uri": "https://localhost:8080/"
        },
        "id": "2PFsgwxAjE03",
        "outputId": "6e731647-4820-4160-a054-8e3bdf74a28a"
      },
      "execution_count": null,
      "outputs": [
        {
          "output_type": "stream",
          "name": "stdout",
          "text": [
            "1\n"
          ]
        }
      ]
    },
    {
      "cell_type": "code",
      "source": [
        "문자 = \"안녕하세요\"\n",
        "문자*=2"
      ],
      "metadata": {
        "id": "9pMuRCC4kI9w"
      },
      "execution_count": null,
      "outputs": []
    },
    {
      "cell_type": "code",
      "source": [
        "print(문자)"
      ],
      "metadata": {
        "colab": {
          "base_uri": "https://localhost:8080/"
        },
        "id": "8yuE1QvsjRSw",
        "outputId": "4a3002bc-28d9-49ac-8c16-1d18f13bfe94"
      },
      "execution_count": null,
      "outputs": [
        {
          "output_type": "stream",
          "name": "stdout",
          "text": [
            "안녕하세요안녕하세요\n"
          ]
        }
      ]
    },
    {
      "cell_type": "code",
      "source": [
        "#이스케이프 문자"
      ],
      "metadata": {
        "id": "MnGNzRVZkSEI"
      },
      "execution_count": null,
      "outputs": []
    },
    {
      "cell_type": "code",
      "source": [
        "print(\"\\\"\")"
      ],
      "metadata": {
        "colab": {
          "base_uri": "https://localhost:8080/"
        },
        "id": "OU8iA-D5mYVS",
        "outputId": "79c043dc-43fc-4de1-8a81-f9f6a59606d8"
      },
      "execution_count": null,
      "outputs": [
        {
          "output_type": "stream",
          "name": "stdout",
          "text": [
            "\"\n"
          ]
        }
      ]
    },
    {
      "cell_type": "code",
      "source": [
        "#\\b == backspace"
      ],
      "metadata": {
        "id": "5pPjltVRm7np"
      },
      "execution_count": null,
      "outputs": []
    },
    {
      "cell_type": "code",
      "source": [
        "print(\"안녕하세요\\b\")"
      ],
      "metadata": {
        "colab": {
          "base_uri": "https://localhost:8080/"
        },
        "id": "EkYWw2NpmgwV",
        "outputId": "9b48482b-6c8f-4447-f7cf-09e23bced68b"
      },
      "execution_count": null,
      "outputs": [
        {
          "output_type": "stream",
          "name": "stdout",
          "text": [
            "안녕하세요\b\n"
          ]
        }
      ]
    },
    {
      "cell_type": "code",
      "source": [
        "print(\"안녕하\\n세요\") #\\n == 줄바꿈"
      ],
      "metadata": {
        "colab": {
          "base_uri": "https://localhost:8080/"
        },
        "id": "3YS0vvd3m5-6",
        "outputId": "b4063429-f062-401d-c029-794a071543b6"
      },
      "execution_count": null,
      "outputs": [
        {
          "output_type": "stream",
          "name": "stdout",
          "text": [
            "안녕하\n",
            "세요\n"
          ]
        }
      ]
    },
    {
      "cell_type": "code",
      "source": [
        "print(\"안녕하\\t세요\") #\\t == tab "
      ],
      "metadata": {
        "colab": {
          "base_uri": "https://localhost:8080/"
        },
        "id": "gowyrOvenRs6",
        "outputId": "7a4ad8a8-0ddf-4ddc-f214-42e3843d2e30"
      },
      "execution_count": null,
      "outputs": [
        {
          "output_type": "stream",
          "name": "stdout",
          "text": [
            "안녕하\t세요\n"
          ]
        }
      ]
    },
    {
      "cell_type": "code",
      "source": [
        "print(\"안녕하\\\\세요\") # \\\\ == \\문자 적어주기"
      ],
      "metadata": {
        "colab": {
          "base_uri": "https://localhost:8080/"
        },
        "id": "BU8Y1ykvneGQ",
        "outputId": "685dfd11-7bc7-4b6f-e80a-58819c6accaf"
      },
      "execution_count": null,
      "outputs": [
        {
          "output_type": "stream",
          "name": "stdout",
          "text": [
            "안녕하\\세요\n"
          ]
        }
      ]
    },
    {
      "cell_type": "code",
      "source": [
        "print(\"\\\" \\'\") # \\\" 이건 쌍따옴표 \\' 이건 따옴표"
      ],
      "metadata": {
        "colab": {
          "base_uri": "https://localhost:8080/"
        },
        "id": "gSfI9tPBnqwp",
        "outputId": "4472b298-5826-49f8-f4d6-abba5bdf21f5"
      },
      "execution_count": null,
      "outputs": [
        {
          "output_type": "stream",
          "name": "stdout",
          "text": [
            "\" '\n"
          ]
        }
      ]
    },
    {
      "cell_type": "code",
      "source": [
        "print(\"\\\\\\\"('.')\\\"\\\\\")"
      ],
      "metadata": {
        "colab": {
          "base_uri": "https://localhost:8080/"
        },
        "id": "nYMkO_Tqn2uR",
        "outputId": "e8d3f6fb-5fc5-4379-b69a-b4b83477b3a8"
      },
      "execution_count": null,
      "outputs": [
        {
          "output_type": "stream",
          "name": "stdout",
          "text": [
            "\\\"('.')\"\\\n"
          ]
        }
      ]
    },
    {
      "cell_type": "code",
      "source": [
        "print(\"\\\\\\\"(\\'.\\')\\\"/\")"
      ],
      "metadata": {
        "colab": {
          "base_uri": "https://localhost:8080/"
        },
        "id": "OlbrnNbcoI4B",
        "outputId": "d942b545-581d-4a5c-b142-9deb0787928d"
      },
      "execution_count": null,
      "outputs": [
        {
          "output_type": "stream",
          "name": "stdout",
          "text": [
            "\\\"('.')\"/\n"
          ]
        }
      ]
    },
    {
      "cell_type": "code",
      "source": [
        "print(\"데이터1\",\"데이터2\",\"데이터3\")"
      ],
      "metadata": {
        "colab": {
          "base_uri": "https://localhost:8080/"
        },
        "id": "77ZsuBKepcbq",
        "outputId": "905e67ea-b640-4f2b-afe2-f146c72dd00b"
      },
      "execution_count": null,
      "outputs": [
        {
          "output_type": "stream",
          "name": "stdout",
          "text": [
            "데이터1 데이터2 데이터3\n"
          ]
        }
      ]
    },
    {
      "cell_type": "code",
      "source": [
        "print(\"데이터1\",\"데이터2\",\"데이터3\",sep=\"\")"
      ],
      "metadata": {
        "colab": {
          "base_uri": "https://localhost:8080/"
        },
        "id": "jxot-JTAqCu2",
        "outputId": "91feea5c-f85f-4989-9bd5-eac8d7fe63fc"
      },
      "execution_count": null,
      "outputs": [
        {
          "output_type": "stream",
          "name": "stdout",
          "text": [
            "데이터1데이터2데이터3\n"
          ]
        }
      ]
    },
    {
      "cell_type": "code",
      "source": [
        "print(\"데이터1\",\"데이터2\",\"데이터3\",sep=\"\\n\",end=\"끝\")"
      ],
      "metadata": {
        "colab": {
          "base_uri": "https://localhost:8080/"
        },
        "id": "r-G156RcqsuM",
        "outputId": "bf608e4b-11f6-44fe-fefe-1908a74c17f3"
      },
      "execution_count": null,
      "outputs": [
        {
          "output_type": "stream",
          "name": "stdout",
          "text": [
            "데이터1\n",
            "데이터2\n",
            "데이터3끝"
          ]
        }
      ]
    },
    {
      "cell_type": "code",
      "source": [
        "전화번호1=\"010\" #숫자형은 앞에 0들어가면 안돼 / 0 여기에 뭘 넣어서 진수를 정의 10\n",
        "전화번호2=\"2310\"\n",
        "전화번호3=\"3085\""
      ],
      "metadata": {
        "id": "YZBVMOxYrauA"
      },
      "execution_count": null,
      "outputs": []
    },
    {
      "cell_type": "code",
      "source": [
        "print(전화번호1, 전화번호2, 전화번호3,sep=\"-\") #010-2310-3085"
      ],
      "metadata": {
        "colab": {
          "base_uri": "https://localhost:8080/"
        },
        "id": "kjiMAiDmq_in",
        "outputId": "1f6c8989-1274-42d7-ae52-282bfb841932"
      },
      "execution_count": null,
      "outputs": [
        {
          "output_type": "stream",
          "name": "stdout",
          "text": [
            "010-2310-3085\n"
          ]
        }
      ]
    },
    {
      "cell_type": "code",
      "source": [
        "#변수를 만든다 == 저장할 수 있는 공간을 만든다."
      ],
      "metadata": {
        "id": "ZMfE0di5r9WD"
      },
      "execution_count": null,
      "outputs": []
    },
    {
      "cell_type": "code",
      "source": [
        "이름 = \"환\""
      ],
      "metadata": {
        "id": "uMetsXreyrqr"
      },
      "execution_count": null,
      "outputs": []
    },
    {
      "cell_type": "code",
      "source": [
        "print(이름)"
      ],
      "metadata": {
        "colab": {
          "base_uri": "https://localhost:8080/"
        },
        "id": "-lPTdjbeyvhm",
        "outputId": "25f2978c-213b-40aa-e7f3-de3a0bece6a7"
      },
      "execution_count": null,
      "outputs": [
        {
          "output_type": "stream",
          "name": "stdout",
          "text": [
            "환\n"
          ]
        }
      ]
    },
    {
      "cell_type": "code",
      "source": [
        "반 = 6"
      ],
      "metadata": {
        "id": "jp77CRxAy5xc"
      },
      "execution_count": null,
      "outputs": []
    },
    {
      "cell_type": "code",
      "source": [
        "print(반)"
      ],
      "metadata": {
        "colab": {
          "base_uri": "https://localhost:8080/"
        },
        "id": "ZgZN5F-8zJoo",
        "outputId": "36cccd86-de62-4c05-cd23-1caa42aa1770"
      },
      "execution_count": null,
      "outputs": [
        {
          "output_type": "stream",
          "name": "stdout",
          "text": [
            "6\n"
          ]
        }
      ]
    },
    {
      "cell_type": "code",
      "source": [
        "# 우리는 우리가 설정을 해서 변수가 무슨 타입인지 알지만 입력받아서 모른다고 생각한다면 자료형을 체크해줄 필요가 있다."
      ],
      "metadata": {
        "id": "zbfhfOK_zQub"
      },
      "execution_count": null,
      "outputs": []
    },
    {
      "cell_type": "code",
      "source": [
        "print(type(반))"
      ],
      "metadata": {
        "colab": {
          "base_uri": "https://localhost:8080/"
        },
        "id": "c3gpvmEtza29",
        "outputId": "d4ff257b-72f6-42a7-d2f3-166a9d131641"
      },
      "execution_count": null,
      "outputs": [
        {
          "output_type": "stream",
          "name": "stdout",
          "text": [
            "<class 'int'>\n"
          ]
        }
      ]
    },
    {
      "cell_type": "code",
      "source": [
        "반_데이터타입 = type(반)"
      ],
      "metadata": {
        "id": "7RrHK2ttzhIU"
      },
      "execution_count": null,
      "outputs": []
    },
    {
      "cell_type": "code",
      "source": [
        "print(반_데이터타입)"
      ],
      "metadata": {
        "colab": {
          "base_uri": "https://localhost:8080/"
        },
        "id": "pZLt_F7Uzl1U",
        "outputId": "e12f2619-e962-4919-ab6b-2a2aa3707059"
      },
      "execution_count": null,
      "outputs": [
        {
          "output_type": "stream",
          "name": "stdout",
          "text": [
            "<class 'int'>\n"
          ]
        }
      ]
    },
    {
      "cell_type": "code",
      "source": [
        "이름_데이터타입 = type(이름)\n",
        "print(이름_데이터타입)"
      ],
      "metadata": {
        "colab": {
          "base_uri": "https://localhost:8080/"
        },
        "id": "KhbH-grjzsTZ",
        "outputId": "1bb7bf28-8c38-480a-bf26-88bc76e0f3b9"
      },
      "execution_count": null,
      "outputs": [
        {
          "output_type": "stream",
          "name": "stdout",
          "text": [
            "<class 'str'>\n"
          ]
        }
      ]
    },
    {
      "cell_type": "code",
      "source": [
        "소수 = 0.5\n",
        "소수_데이터타입 = type(소수)\n",
        "print(소수_데이터타입)"
      ],
      "metadata": {
        "colab": {
          "base_uri": "https://localhost:8080/"
        },
        "id": "WubrKoUBz39N",
        "outputId": "719cfb88-d405-42d5-fbf9-b0e62b45769f"
      },
      "execution_count": null,
      "outputs": [
        {
          "output_type": "stream",
          "name": "stdout",
          "text": [
            "<class 'float'>\n"
          ]
        }
      ]
    },
    {
      "cell_type": "code",
      "source": [
        "#2가지 숫자로 이루어짐 -> 이진수 "
      ],
      "metadata": {
        "id": "SuujPvu4z_eG"
      },
      "execution_count": null,
      "outputs": []
    },
    {
      "cell_type": "code",
      "source": [
        "print(0b10) #b == binary 이진수를 의미"
      ],
      "metadata": {
        "colab": {
          "base_uri": "https://localhost:8080/"
        },
        "id": "Gv4PiUEF0l4J",
        "outputId": "358d6f54-e4fa-4059-c974-c882a6845f54"
      },
      "execution_count": null,
      "outputs": [
        {
          "output_type": "stream",
          "name": "stdout",
          "text": [
            "2\n"
          ]
        }
      ]
    },
    {
      "cell_type": "code",
      "source": [
        "print(0o10) #ocata = 8진수"
      ],
      "metadata": {
        "colab": {
          "base_uri": "https://localhost:8080/"
        },
        "id": "Ygh0rhrb0pRr",
        "outputId": "6f34f754-6f30-4f4a-9d87-5ce929fee445"
      },
      "execution_count": null,
      "outputs": [
        {
          "output_type": "stream",
          "name": "stdout",
          "text": [
            "8\n"
          ]
        }
      ]
    },
    {
      "cell_type": "code",
      "source": [
        "print(0x10) # 16진수"
      ],
      "metadata": {
        "colab": {
          "base_uri": "https://localhost:8080/"
        },
        "id": "u7qMb6rn0woj",
        "outputId": "3cb340ca-50bf-4d90-a09d-1ca054ac8c09"
      },
      "execution_count": null,
      "outputs": [
        {
          "output_type": "stream",
          "name": "stdout",
          "text": [
            "16\n"
          ]
        }
      ]
    },
    {
      "cell_type": "code",
      "source": [
        "print(0xb)"
      ],
      "metadata": {
        "colab": {
          "base_uri": "https://localhost:8080/"
        },
        "id": "HO7Arpw30zP7",
        "outputId": "0a4b93a9-1064-4d42-e2a2-d267e2248caf"
      },
      "execution_count": null,
      "outputs": [
        {
          "output_type": "stream",
          "name": "stdout",
          "text": [
            "11\n"
          ]
        }
      ]
    },
    {
      "cell_type": "code",
      "source": [
        "print(10+5) #더하기\n",
        "print(10-5) #빼기\n",
        "print(10/2) #나누기는 소수로 나옴\n",
        "print(10*2) #곱하기"
      ],
      "metadata": {
        "colab": {
          "base_uri": "https://localhost:8080/"
        },
        "id": "-rJtS2HN1Bz4",
        "outputId": "833638c8-b07d-4507-ab84-23b7658d131b"
      },
      "execution_count": null,
      "outputs": [
        {
          "output_type": "stream",
          "name": "stdout",
          "text": [
            "15\n",
            "5\n",
            "5.0\n",
            "20\n"
          ]
        }
      ]
    },
    {
      "cell_type": "code",
      "source": [
        "print(2**3) #거듭제곱"
      ],
      "metadata": {
        "colab": {
          "base_uri": "https://localhost:8080/"
        },
        "id": "xU3pqyup1TSp",
        "outputId": "2de6a422-8cd5-4cb4-826f-eb8b19aaf014"
      },
      "execution_count": null,
      "outputs": [
        {
          "output_type": "stream",
          "name": "stdout",
          "text": [
            "8\n"
          ]
        }
      ]
    },
    {
      "cell_type": "code",
      "source": [
        "print(15%10) #나머지"
      ],
      "metadata": {
        "colab": {
          "base_uri": "https://localhost:8080/"
        },
        "id": "fXUaVBVU1nN9",
        "outputId": "4e101197-c07a-435d-daeb-424cd18750b8"
      },
      "execution_count": null,
      "outputs": [
        {
          "output_type": "stream",
          "name": "stdout",
          "text": [
            "5\n"
          ]
        }
      ]
    },
    {
      "cell_type": "code",
      "source": [
        "print(15//10) #몫"
      ],
      "metadata": {
        "colab": {
          "base_uri": "https://localhost:8080/"
        },
        "id": "8-G2U-561otz",
        "outputId": "f94acb37-7202-42ba-e59f-ecfaaaba828f"
      },
      "execution_count": null,
      "outputs": [
        {
          "output_type": "stream",
          "name": "stdout",
          "text": [
            "1\n"
          ]
        }
      ]
    },
    {
      "cell_type": "markdown",
      "source": [
        "문자열"
      ],
      "metadata": {
        "id": "Rn7pmYpr2M7j"
      }
    },
    {
      "cell_type": "code",
      "source": [
        "문자열 = \"문자열 내용\"\n",
        "문자열2 = '문자열 내용2'\n",
        "문자열3 = \"\"\"문자열 내용3\"\"\" #왜 \"\"\" \"\"\"를 쓸까? -> 엔터를 칠 수 있다.\n",
        "문자열4 = '''문자열 내용4'''\n",
        "print(문자열)\n",
        "print(문자열2)\n",
        "print(문자열3)\n",
        "print(문자열4)"
      ],
      "metadata": {
        "colab": {
          "base_uri": "https://localhost:8080/"
        },
        "id": "ANog2CFc19ka",
        "outputId": "0f3053ff-b61c-49d7-ab7a-f0f06bf11646"
      },
      "execution_count": null,
      "outputs": [
        {
          "output_type": "stream",
          "name": "stdout",
          "text": [
            "문자열 내용\n",
            "문자열 내용2\n",
            "문자열 내용3\n",
            "문자열 내용4\n"
          ]
        }
      ]
    },
    {
      "cell_type": "code",
      "source": [
        "문자열5 = \"\"\"\n",
        "아니\n",
        "이건\n",
        "여러줄이 된다고?\n",
        "\"\"\"\n",
        "print(문자열5)"
      ],
      "metadata": {
        "colab": {
          "base_uri": "https://localhost:8080/"
        },
        "id": "Pn1qshF420iy",
        "outputId": "d98dd98b-7b36-4f19-a228-3343014268ef"
      },
      "execution_count": null,
      "outputs": [
        {
          "output_type": "stream",
          "name": "stdout",
          "text": [
            "\n",
            "아니\n",
            "이건\n",
            "여러줄이 된다고?\n",
            "\n"
          ]
        }
      ]
    },
    {
      "cell_type": "code",
      "source": [
        "문자열6 = \"\\\\\""
      ],
      "metadata": {
        "id": "dbWAXEIp3Eqi"
      },
      "execution_count": null,
      "outputs": []
    },
    {
      "cell_type": "code",
      "source": [
        "print(문자열 + 문자열2) # 값을 1개로 인식 ,쓸때랑 다름\n",
        "print(문자열)\n",
        "print(문자열2)"
      ],
      "metadata": {
        "colab": {
          "base_uri": "https://localhost:8080/"
        },
        "id": "hx-xyZCh3dfl",
        "outputId": "35d74383-6007-49c1-d279-6f869b4980bd"
      },
      "execution_count": null,
      "outputs": [
        {
          "output_type": "stream",
          "name": "stdout",
          "text": [
            "문자열 내용문자열 내용2\n",
            "문자열 내용\n",
            "문자열 내용2\n"
          ]
        }
      ]
    },
    {
      "cell_type": "code",
      "source": [
        "이름 = \"환\"\n",
        "인사 = \"안녕하세요\"\n",
        "print(인사+\" \"+\"저는 \"+이름+\"입니다\")"
      ],
      "metadata": {
        "colab": {
          "base_uri": "https://localhost:8080/"
        },
        "id": "4-KOSnov3rLp",
        "outputId": "6a5d01cc-da41-4a79-f03a-9c7088854309"
      },
      "execution_count": null,
      "outputs": [
        {
          "output_type": "stream",
          "name": "stdout",
          "text": [
            "안녕하세요 저는 환입니다\n"
          ]
        }
      ]
    },
    {
      "cell_type": "code",
      "source": [
        "인삿말 = 인사+\" \"+\"저는 \"+이름+ \"입니다\\n\""
      ],
      "metadata": {
        "id": "-JqrV0mG4FlL"
      },
      "execution_count": null,
      "outputs": []
    },
    {
      "cell_type": "code",
      "source": [
        "print(인삿말*10) # - 10줄이 나오지만 데이터 1개 ! "
      ],
      "metadata": {
        "colab": {
          "base_uri": "https://localhost:8080/"
        },
        "id": "lw2pPnCz4QLW",
        "outputId": "bc3af993-f31a-4842-ea38-475abb5330d9"
      },
      "execution_count": null,
      "outputs": [
        {
          "output_type": "stream",
          "name": "stdout",
          "text": [
            "안녕하세요 저는 환입니다\n",
            "안녕하세요 저는 환입니다\n",
            "안녕하세요 저는 환입니다\n",
            "안녕하세요 저는 환입니다\n",
            "안녕하세요 저는 환입니다\n",
            "안녕하세요 저는 환입니다\n",
            "안녕하세요 저는 환입니다\n",
            "안녕하세요 저는 환입니다\n",
            "안녕하세요 저는 환입니다\n",
            "안녕하세요 저는 환입니다\n",
            "\n"
          ]
        }
      ]
    },
    {
      "cell_type": "code",
      "source": [
        "print(len(이름))"
      ],
      "metadata": {
        "colab": {
          "base_uri": "https://localhost:8080/"
        },
        "id": "PoYgCCRW4UL9",
        "outputId": "b3d832c0-9ceb-42ac-8e90-f0c248ba2f51"
      },
      "execution_count": null,
      "outputs": [
        {
          "output_type": "stream",
          "name": "stdout",
          "text": [
            "1\n"
          ]
        }
      ]
    },
    {
      "cell_type": "code",
      "source": [
        "이름길이 = len(이름) #len -> 값(문자열)의 길이를 구해줌"
      ],
      "metadata": {
        "id": "BUeUqh7P4nMC"
      },
      "execution_count": null,
      "outputs": []
    },
    {
      "cell_type": "code",
      "source": [
        "print(이름길이)\n",
        "print(이름)"
      ],
      "metadata": {
        "colab": {
          "base_uri": "https://localhost:8080/"
        },
        "id": "N8RrTTtm4rpO",
        "outputId": "93102015-5975-4d5c-bc5e-0ada2a8d3e25"
      },
      "execution_count": null,
      "outputs": [
        {
          "output_type": "stream",
          "name": "stdout",
          "text": [
            "1\n",
            "환\n"
          ]
        }
      ]
    },
    {
      "cell_type": "code",
      "source": [
        "print(이름길이 + 3)"
      ],
      "metadata": {
        "colab": {
          "base_uri": "https://localhost:8080/"
        },
        "id": "yLboWXXu4uT9",
        "outputId": "6efa6399-6585-46cb-cf69-3932f13ac9e3"
      },
      "execution_count": null,
      "outputs": [
        {
          "output_type": "stream",
          "name": "stdout",
          "text": [
            "4\n"
          ]
        }
      ]
    },
    {
      "cell_type": "code",
      "source": [
        "print(type(이름길이))"
      ],
      "metadata": {
        "colab": {
          "base_uri": "https://localhost:8080/"
        },
        "id": "D_mJbbxD5AXH",
        "outputId": "e698a74b-afff-4059-ff28-ac69a255981c"
      },
      "execution_count": null,
      "outputs": [
        {
          "output_type": "stream",
          "name": "stdout",
          "text": [
            "<class 'int'>\n"
          ]
        }
      ]
    },
    {
      "cell_type": "markdown",
      "source": [
        "리스트"
      ],
      "metadata": {
        "id": "zxhwTIH986i-"
      }
    },
    {
      "cell_type": "code",
      "source": [
        "print([1,2,3,4,5]) #[자료, 자료, 자료,......] 자료형 제한 없음"
      ],
      "metadata": {
        "colab": {
          "base_uri": "https://localhost:8080/"
        },
        "id": "E1EV0B-D5NFz",
        "outputId": "f7a7b3cf-5147-46ec-d5f7-f385d1c8e9e2"
      },
      "execution_count": null,
      "outputs": [
        {
          "output_type": "stream",
          "name": "stdout",
          "text": [
            "[1, 2, 3, 4, 5]\n"
          ]
        }
      ]
    },
    {
      "cell_type": "code",
      "source": [
        "배열 = [-1,10.2, \"이름\",[1,2,3]] #[[]] 리스트 속에 리트스 -> 2차원 배열"
      ],
      "metadata": {
        "id": "BdFH87mh9CVQ"
      },
      "execution_count": null,
      "outputs": []
    },
    {
      "cell_type": "code",
      "source": [
        "print( 배열 )"
      ],
      "metadata": {
        "colab": {
          "base_uri": "https://localhost:8080/"
        },
        "id": "EnRLaQ819XhJ",
        "outputId": "5dfc9200-a708-4ac5-fcdc-d396006d54f2"
      },
      "execution_count": null,
      "outputs": [
        {
          "output_type": "stream",
          "name": "stdout",
          "text": [
            "[-1, 10.2, '이름', [1, 2, 3]]\n"
          ]
        }
      ]
    },
    {
      "cell_type": "code",
      "source": [
        "#리스트 자료형은 순서(인덱스)가 있다. 0번째 부터 시작\n",
        "print(배열[0])\n",
        "print(배열[2])"
      ],
      "metadata": {
        "colab": {
          "base_uri": "https://localhost:8080/"
        },
        "id": "rvFRa9hE9ZXJ",
        "outputId": "75062974-40c6-47ac-a2c2-69e2c46de363"
      },
      "execution_count": null,
      "outputs": [
        {
          "output_type": "stream",
          "name": "stdout",
          "text": [
            "-1\n",
            "이름\n"
          ]
        }
      ]
    },
    {
      "cell_type": "code",
      "source": [
        "print(배열[3])"
      ],
      "metadata": {
        "colab": {
          "base_uri": "https://localhost:8080/"
        },
        "id": "lPiBEf5X9lXo",
        "outputId": "3de1ab59-e1bc-4208-85d3-76e579d02b49"
      },
      "execution_count": null,
      "outputs": [
        {
          "output_type": "stream",
          "name": "stdout",
          "text": [
            "[1, 2, 3]\n"
          ]
        }
      ]
    },
    {
      "cell_type": "code",
      "source": [
        "print(배열[3][1])"
      ],
      "metadata": {
        "colab": {
          "base_uri": "https://localhost:8080/"
        },
        "id": "5avhqLES96mM",
        "outputId": "2b00659e-8dc3-4fda-c13d-c6639b3d6913"
      },
      "execution_count": null,
      "outputs": [
        {
          "output_type": "stream",
          "name": "stdout",
          "text": [
            "2\n"
          ]
        }
      ]
    },
    {
      "cell_type": "code",
      "source": [
        "print(len(배열)) #순서는 0,1,2,3 but, 길이는 4 "
      ],
      "metadata": {
        "colab": {
          "base_uri": "https://localhost:8080/"
        },
        "id": "CfM2rik--CF-",
        "outputId": "ffcdbfb5-533c-4307-8eb0-b28ba1668359"
      },
      "execution_count": null,
      "outputs": [
        {
          "output_type": "stream",
          "name": "stdout",
          "text": [
            "4\n"
          ]
        }
      ]
    },
    {
      "cell_type": "code",
      "source": [
        "print(배열[-1]) #마지막 값 꺼내기"
      ],
      "metadata": {
        "colab": {
          "base_uri": "https://localhost:8080/"
        },
        "id": "YAgDAc5y-di8",
        "outputId": "61d8a1c6-4039-42bf-8f52-1900b2376de1"
      },
      "execution_count": null,
      "outputs": [
        {
          "output_type": "stream",
          "name": "stdout",
          "text": [
            "[1, 2, 3]\n"
          ]
        }
      ]
    },
    {
      "cell_type": "code",
      "source": [
        "print(배열[len(배열)-1]) #마지막 값 꺼내기"
      ],
      "metadata": {
        "colab": {
          "base_uri": "https://localhost:8080/"
        },
        "id": "f5VialC7-k-Z",
        "outputId": "2b3af3db-a483-4029-916f-0256f20a68c8"
      },
      "execution_count": null,
      "outputs": [
        {
          "output_type": "stream",
          "name": "stdout",
          "text": [
            "[1, 2, 3]\n"
          ]
        }
      ]
    },
    {
      "cell_type": "code",
      "source": [
        "#슬라이싱"
      ],
      "metadata": {
        "id": "5nOjWPoU-tAY"
      },
      "execution_count": null,
      "outputs": []
    },
    {
      "cell_type": "code",
      "source": [
        "print(배열[1:3]) #1번째 부터 3번째 이전까지"
      ],
      "metadata": {
        "colab": {
          "base_uri": "https://localhost:8080/"
        },
        "id": "apE8EeHT-5OK",
        "outputId": "c215430a-854d-4801-8999-4e1e280a4cc1"
      },
      "execution_count": null,
      "outputs": [
        {
          "output_type": "stream",
          "name": "stdout",
          "text": [
            "[10.2, '이름']\n"
          ]
        }
      ]
    },
    {
      "cell_type": "code",
      "source": [
        "배열[-1] = 10 # 원본을 바꿈\n",
        "print(배열)"
      ],
      "metadata": {
        "colab": {
          "base_uri": "https://localhost:8080/"
        },
        "id": "EEh6ecqu_BHP",
        "outputId": "265a56d9-c590-4568-c734-732789e8c752"
      },
      "execution_count": null,
      "outputs": [
        {
          "output_type": "stream",
          "name": "stdout",
          "text": [
            "[-1, 10.2, '이름', 10]\n"
          ]
        }
      ]
    },
    {
      "cell_type": "code",
      "source": [
        "배열[:][-1] = [1,2,3] # 원본은 그대로 있고 슬라이싱 한거에서 마지막 번째를 [1,2,3] 으로 바꿈 -> 원본을 바꾸지 않고, 값만 갖고 와서 쓰거나 복사본 만들 때 사용 (원본을 조작하지 않고 값 조작 가능)"
      ],
      "metadata": {
        "id": "R7OHy8gJ_PL8"
      },
      "execution_count": null,
      "outputs": []
    },
    {
      "cell_type": "code",
      "source": [
        "print(배열)"
      ],
      "metadata": {
        "colab": {
          "base_uri": "https://localhost:8080/"
        },
        "id": "SjpveZG5_bs2",
        "outputId": "20f03d7f-e639-4b07-b729-f10d53fab96c"
      },
      "execution_count": null,
      "outputs": [
        {
          "output_type": "stream",
          "name": "stdout",
          "text": [
            "[-1, 10.2, '이름', 10]\n"
          ]
        }
      ]
    },
    {
      "cell_type": "code",
      "source": [
        "print(\"123\",\"1245\",end =\"!\")"
      ],
      "metadata": {
        "colab": {
          "base_uri": "https://localhost:8080/"
        },
        "id": "zVvn4TWFAH9c",
        "outputId": "4b6a519a-e13c-49b6-ef23-c9446ba4a676"
      },
      "execution_count": null,
      "outputs": [
        {
          "output_type": "stream",
          "name": "stdout",
          "text": [
            "123 1245!"
          ]
        }
      ]
    },
    {
      "cell_type": "markdown",
      "source": [
        "문제"
      ],
      "metadata": {
        "id": "7R5f3uE1FTKF"
      }
    },
    {
      "cell_type": "code",
      "source": [
        "문제 = \"01033334444\"\n",
        "\n",
        "#print 하면 맨 뒤 4자리 제외 *"
      ],
      "metadata": {
        "id": "1vSSB__JAqpe"
      },
      "execution_count": null,
      "outputs": []
    },
    {
      "cell_type": "code",
      "source": [
        "print(len(문제)*\"*\")"
      ],
      "metadata": {
        "colab": {
          "base_uri": "https://localhost:8080/"
        },
        "id": "9uPOa03GF6v3",
        "outputId": "61ea903e-9436-4453-b648-b0a5b891b4c7"
      },
      "execution_count": null,
      "outputs": [
        {
          "output_type": "stream",
          "name": "stdout",
          "text": [
            "***********\n"
          ]
        }
      ]
    },
    {
      "cell_type": "code",
      "source": [
        "print(문제[-4:])"
      ],
      "metadata": {
        "colab": {
          "base_uri": "https://localhost:8080/"
        },
        "id": "2qOV91U8GAF9",
        "outputId": "b6638ede-fa84-460d-a9d6-093e13f44270"
      },
      "execution_count": null,
      "outputs": [
        {
          "output_type": "stream",
          "name": "stdout",
          "text": [
            "4444\n"
          ]
        }
      ]
    },
    {
      "cell_type": "code",
      "source": [
        "a = str(문제[-4:])"
      ],
      "metadata": {
        "id": "tZ0DxokEGXIL"
      },
      "execution_count": null,
      "outputs": []
    },
    {
      "cell_type": "code",
      "source": [
        "b=(len(문제)-1)*\"*\""
      ],
      "metadata": {
        "id": "yPKk9pdYGkPT"
      },
      "execution_count": null,
      "outputs": []
    },
    {
      "cell_type": "code",
      "source": [
        "\n",
        "print(b+\"\"+a)"
      ],
      "metadata": {
        "colab": {
          "base_uri": "https://localhost:8080/"
        },
        "id": "huTcfy1fGxD9",
        "outputId": "02c8a808-b427-42ad-80be-da0070e5441e"
      },
      "execution_count": null,
      "outputs": [
        {
          "output_type": "stream",
          "name": "stdout",
          "text": [
            "**********4444\n"
          ]
        }
      ]
    },
    {
      "cell_type": "code",
      "source": [
        "#답 문제=\"01033334444\"\n"
      ],
      "metadata": {
        "id": "NyDVUGuYHO-a"
      },
      "execution_count": null,
      "outputs": []
    },
    {
      "cell_type": "markdown",
      "source": [
        "내 풀이\n",
        "def solution(문제):\n",
        "    a = str(문제[-4:])\n",
        "    b=(len(문제)-4)*\"*\"\n",
        "    정답 = (b+\"\"+a)\n",
        "    return 정답"
      ],
      "metadata": {
        "id": "yg4XLmooKQLk"
      }
    },
    {
      "cell_type": "markdown",
      "source": [
        "선생님 풀이\n",
        "def solution(문제):\n",
        "  앞번호 = 문제[:-4]\n",
        "  별 = len(앞번호)*\"*\"\n",
        "  뒷번호 = 문제[-4:]\n",
        "  정답 = 별 + 뒷번호\n",
        "  return 정답"
      ],
      "metadata": {
        "id": "J6Kloi-TJx8H"
      }
    },
    {
      "cell_type": "code",
      "source": [
        ""
      ],
      "metadata": {
        "id": "Hk17gLl9KI_f"
      },
      "execution_count": null,
      "outputs": []
    }
  ]
}