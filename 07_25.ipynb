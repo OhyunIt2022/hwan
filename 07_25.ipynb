{
  "nbformat": 4,
  "nbformat_minor": 0,
  "metadata": {
    "colab": {
      "name": "07_25.ipynb",
      "provenance": [],
      "collapsed_sections": [
        "_ZmYrlOrycCh",
        "fKs6nscyHeVf",
        "PWO5mRQsP-dH",
        "H8HEa7xKUtdn",
        "EHY1oSprVHlh",
        "UahRttQJWIWv",
        "j1M_3wxqYRLD"
      ]
    },
    "kernelspec": {
      "name": "python3",
      "display_name": "Python 3"
    },
    "language_info": {
      "name": "python"
    }
  },
  "cells": [
    {
      "cell_type": "markdown",
      "source": [
        "# 리스트 자료형"
      ],
      "metadata": {
        "id": "_ZmYrlOrycCh"
      }
    },
    {
      "cell_type": "code",
      "execution_count": null,
      "metadata": {
        "id": "jzKJ0tVsyP1U"
      },
      "outputs": [],
      "source": [
        "#리스트에 값 추가, 삭제"
      ]
    },
    {
      "cell_type": "code",
      "source": [
        "#추가\n",
        "a = [1, 2, 3, 4, 5]"
      ],
      "metadata": {
        "id": "GpLvk7Omyq2D"
      },
      "execution_count": null,
      "outputs": []
    },
    {
      "cell_type": "code",
      "source": [
        "print(type(a))"
      ],
      "metadata": {
        "colab": {
          "base_uri": "https://localhost:8080/"
        },
        "id": "9Whu9aabQfC2",
        "outputId": "98f2ad97-45f1-4d92-b749-12ca781e18f2"
      },
      "execution_count": null,
      "outputs": [
        {
          "output_type": "stream",
          "name": "stdout",
          "text": [
            "<class 'list'>\n"
          ]
        }
      ]
    },
    {
      "cell_type": "code",
      "source": [
        "print(a)"
      ],
      "metadata": {
        "colab": {
          "base_uri": "https://localhost:8080/"
        },
        "id": "kP8NVPZIz2Kv",
        "outputId": "df0e1578-e808-4ffc-c875-95ac9368cd49"
      },
      "execution_count": null,
      "outputs": [
        {
          "output_type": "stream",
          "name": "stdout",
          "text": [
            "[1, 2, 3, 4, 5]\n"
          ]
        }
      ]
    },
    {
      "cell_type": "code",
      "source": [
        "# 6을 추가하겠다.\n",
        "a.append(6)"
      ],
      "metadata": {
        "id": "xrTDDzaJ0ReR"
      },
      "execution_count": null,
      "outputs": []
    },
    {
      "cell_type": "code",
      "source": [
        "print(a)"
      ],
      "metadata": {
        "colab": {
          "base_uri": "https://localhost:8080/"
        },
        "id": "5HBumZHa0fBr",
        "outputId": "d661a1d9-7e50-4d0f-fe42-2f7faa3dfce2"
      },
      "execution_count": null,
      "outputs": [
        {
          "output_type": "stream",
          "name": "stdout",
          "text": [
            "[1, 2, 3, 4, 5, 6]\n"
          ]
        }
      ]
    },
    {
      "cell_type": "code",
      "source": [
        "#a.append(7,8) -> 에러남 왜 why: 한번에 한개씩만 넣을 수 있어서 "
      ],
      "metadata": {
        "id": "Kyatj0bn0hVW"
      },
      "execution_count": null,
      "outputs": []
    },
    {
      "cell_type": "code",
      "source": [
        "a.append([1,2]) #리스트에 추가하는거 자료형 상관 없음"
      ],
      "metadata": {
        "id": "JaluJhpv0pG6"
      },
      "execution_count": null,
      "outputs": []
    },
    {
      "cell_type": "code",
      "source": [
        "print(a)"
      ],
      "metadata": {
        "colab": {
          "base_uri": "https://localhost:8080/"
        },
        "id": "WUmDm_YC060t",
        "outputId": "407d2cda-fb74-4347-c060-b1a956855119"
      },
      "execution_count": null,
      "outputs": [
        {
          "output_type": "stream",
          "name": "stdout",
          "text": [
            "[1, 2, 3, 4, 5, 6, [1, 2]]\n"
          ]
        }
      ]
    },
    {
      "cell_type": "code",
      "source": [
        "dir(a) #배열이랑 관련된 정보들을 보여줌"
      ],
      "metadata": {
        "colab": {
          "base_uri": "https://localhost:8080/"
        },
        "id": "7jmOlDFB08KU",
        "outputId": "be8446ed-a7e1-4522-8ba6-e1c59f527559"
      },
      "execution_count": null,
      "outputs": [
        {
          "output_type": "execute_result",
          "data": {
            "text/plain": [
              "['__add__',\n",
              " '__class__',\n",
              " '__contains__',\n",
              " '__delattr__',\n",
              " '__delitem__',\n",
              " '__dir__',\n",
              " '__doc__',\n",
              " '__eq__',\n",
              " '__format__',\n",
              " '__ge__',\n",
              " '__getattribute__',\n",
              " '__getitem__',\n",
              " '__gt__',\n",
              " '__hash__',\n",
              " '__iadd__',\n",
              " '__imul__',\n",
              " '__init__',\n",
              " '__init_subclass__',\n",
              " '__iter__',\n",
              " '__le__',\n",
              " '__len__',\n",
              " '__lt__',\n",
              " '__mul__',\n",
              " '__ne__',\n",
              " '__new__',\n",
              " '__reduce__',\n",
              " '__reduce_ex__',\n",
              " '__repr__',\n",
              " '__reversed__',\n",
              " '__rmul__',\n",
              " '__setattr__',\n",
              " '__setitem__',\n",
              " '__sizeof__',\n",
              " '__str__',\n",
              " '__subclasshook__',\n",
              " 'append',\n",
              " 'clear',\n",
              " 'copy',\n",
              " 'count',\n",
              " 'extend',\n",
              " 'index',\n",
              " 'insert',\n",
              " 'pop',\n",
              " 'remove',\n",
              " 'reverse',\n",
              " 'sort']"
            ]
          },
          "metadata": {},
          "execution_count": 100
        }
      ]
    },
    {
      "cell_type": "code",
      "source": [
        "#insert 와 append의 차이 -> insert는 어디에 넣을지 정할 수 있다."
      ],
      "metadata": {
        "id": "9zQTYALf09s6"
      },
      "execution_count": null,
      "outputs": []
    },
    {
      "cell_type": "code",
      "source": [
        "# a.sort() -> 안에 리스트 들어있어서 정렬 안되네"
      ],
      "metadata": {
        "id": "17Z7yeP41gcP"
      },
      "execution_count": null,
      "outputs": []
    },
    {
      "cell_type": "code",
      "source": [
        "a2 = [3, 10, 19, 100, 1, 17]"
      ],
      "metadata": {
        "id": "wedqX3Dd1oZu"
      },
      "execution_count": null,
      "outputs": []
    },
    {
      "cell_type": "code",
      "source": [
        "a2.sort() #sort -> 오름차순으로 정렬"
      ],
      "metadata": {
        "id": "WjVcoqqq1yyE"
      },
      "execution_count": null,
      "outputs": []
    },
    {
      "cell_type": "code",
      "source": [
        "print(a2)"
      ],
      "metadata": {
        "colab": {
          "base_uri": "https://localhost:8080/"
        },
        "id": "iQo7GSxc12eq",
        "outputId": "ba785043-1fcf-4ca3-d26b-c708e4e11f7c"
      },
      "execution_count": null,
      "outputs": [
        {
          "output_type": "stream",
          "name": "stdout",
          "text": [
            "[1, 3, 10, 17, 19, 100]\n"
          ]
        }
      ]
    },
    {
      "cell_type": "code",
      "source": [
        "a3 = ['z','x','v','가','다','나']"
      ],
      "metadata": {
        "id": "kVq4lSpI2A9z"
      },
      "execution_count": null,
      "outputs": []
    },
    {
      "cell_type": "code",
      "source": [
        "a3.sort()"
      ],
      "metadata": {
        "id": "H5szHFYD2Puh"
      },
      "execution_count": null,
      "outputs": []
    },
    {
      "cell_type": "code",
      "source": [
        "print(a3)"
      ],
      "metadata": {
        "colab": {
          "base_uri": "https://localhost:8080/"
        },
        "id": "b4aSZFGN2SE7",
        "outputId": "d2f5abdd-6fb4-43d6-82f6-21517fb9718a"
      },
      "execution_count": null,
      "outputs": [
        {
          "output_type": "stream",
          "name": "stdout",
          "text": [
            "['v', 'x', 'z', '가', '나', '다']\n"
          ]
        }
      ]
    },
    {
      "cell_type": "code",
      "source": [
        "a4 = [1,9,5, 'c','a','v']"
      ],
      "metadata": {
        "id": "Z4nZhXqs2TqB"
      },
      "execution_count": null,
      "outputs": []
    },
    {
      "cell_type": "code",
      "source": [
        "print(a4)"
      ],
      "metadata": {
        "colab": {
          "base_uri": "https://localhost:8080/"
        },
        "id": "KAAAmXRY2akA",
        "outputId": "716fd20e-dd6c-4b59-ac65-a198bf846b47"
      },
      "execution_count": null,
      "outputs": [
        {
          "output_type": "stream",
          "name": "stdout",
          "text": [
            "[1, 9, 5, 'c', 'a', 'v']\n"
          ]
        }
      ]
    },
    {
      "cell_type": "code",
      "source": [
        "# a4.sort() -> 뭐가 더 큰지 비교가 안돼 (숫자랑 문자랑 비교 X) "
      ],
      "metadata": {
        "id": "XOsyhR4S2bb9"
      },
      "execution_count": null,
      "outputs": []
    },
    {
      "cell_type": "code",
      "source": [
        "a5 = [3,5,2,9,10,12,15]"
      ],
      "metadata": {
        "id": "oJYYqzRy2d8y"
      },
      "execution_count": null,
      "outputs": []
    },
    {
      "cell_type": "code",
      "source": [
        "a5.reverse() #reverse 는 정렬이 아니라 단순히 저장된 값들을 뒤집어줌."
      ],
      "metadata": {
        "id": "hOXHpRYT25u1"
      },
      "execution_count": null,
      "outputs": []
    },
    {
      "cell_type": "code",
      "source": [
        "print(a5)"
      ],
      "metadata": {
        "colab": {
          "base_uri": "https://localhost:8080/"
        },
        "id": "5s1C8_AG27Fe",
        "outputId": "ea493c9e-f138-41fa-97dc-67e7499cdb62"
      },
      "execution_count": null,
      "outputs": [
        {
          "output_type": "stream",
          "name": "stdout",
          "text": [
            "[15, 12, 10, 9, 2, 5, 3]\n"
          ]
        }
      ]
    },
    {
      "cell_type": "code",
      "source": [
        "print(a4)"
      ],
      "metadata": {
        "colab": {
          "base_uri": "https://localhost:8080/"
        },
        "id": "d7yEfHAl28Fj",
        "outputId": "071d3c83-0a40-4fc8-ab42-6546011ed663"
      },
      "execution_count": null,
      "outputs": [
        {
          "output_type": "stream",
          "name": "stdout",
          "text": [
            "[1, 9, 5, 'c', 'a', 'v']\n"
          ]
        }
      ]
    },
    {
      "cell_type": "code",
      "source": [
        "a4.reverse()"
      ],
      "metadata": {
        "id": "N3gg0EhO3SjU"
      },
      "execution_count": null,
      "outputs": []
    },
    {
      "cell_type": "code",
      "source": [
        "print(a4)"
      ],
      "metadata": {
        "colab": {
          "base_uri": "https://localhost:8080/"
        },
        "id": "-9EL-Eyd3USq",
        "outputId": "de54cb57-129f-48e2-a67b-31ece7438314"
      },
      "execution_count": null,
      "outputs": [
        {
          "output_type": "stream",
          "name": "stdout",
          "text": [
            "['v', 'a', 'c', 5, 9, 1]\n"
          ]
        }
      ]
    },
    {
      "cell_type": "code",
      "source": [
        "a6 = [1, 2, [1,2,3]]\n",
        "print(a6)"
      ],
      "metadata": {
        "colab": {
          "base_uri": "https://localhost:8080/"
        },
        "id": "GVIiTQ_r3VNR",
        "outputId": "b70b037e-375c-452c-b625-9d108fbdd324"
      },
      "execution_count": null,
      "outputs": [
        {
          "output_type": "stream",
          "name": "stdout",
          "text": [
            "[1, 2, [1, 2, 3]]\n"
          ]
        }
      ]
    },
    {
      "cell_type": "code",
      "source": [
        "a6.reverse()"
      ],
      "metadata": {
        "id": "LGsJj6D_3f1j"
      },
      "execution_count": null,
      "outputs": []
    },
    {
      "cell_type": "code",
      "source": [
        "print(a6) #reverse 해도 안에 리스트 속 값은 그대로"
      ],
      "metadata": {
        "colab": {
          "base_uri": "https://localhost:8080/"
        },
        "id": "B19s4w1m3jNR",
        "outputId": "eb073605-f31a-4aa6-a37a-942461a44829"
      },
      "execution_count": null,
      "outputs": [
        {
          "output_type": "stream",
          "name": "stdout",
          "text": [
            "[[1, 2, 3], 2, 1]\n"
          ]
        }
      ]
    },
    {
      "cell_type": "code",
      "source": [
        "a6[0].reverse() #이런 식으로 따로 인덱스로 저장해서 reverse 해줘야 값 바뀜"
      ],
      "metadata": {
        "id": "BwsQcKM03k7M"
      },
      "execution_count": null,
      "outputs": []
    },
    {
      "cell_type": "code",
      "source": [
        "print(a6)"
      ],
      "metadata": {
        "colab": {
          "base_uri": "https://localhost:8080/"
        },
        "id": "haVs_LLC3x-7",
        "outputId": "cb613f2d-a019-464e-d1f3-a61887f0058a"
      },
      "execution_count": null,
      "outputs": [
        {
          "output_type": "stream",
          "name": "stdout",
          "text": [
            "[[3, 2, 1], 2, 1]\n"
          ]
        }
      ]
    },
    {
      "cell_type": "code",
      "source": [
        "#게임 만들 때 리스트 속에 리스트가 들어있는 형태를 많이 볼 수 있다. [10,0] -> [x,y] 좌표 설정하는데 씀.\n",
        "#색깔 표현할 때도 많이쓴다."
      ],
      "metadata": {
        "id": "Xgc2egzD3zD3"
      },
      "execution_count": null,
      "outputs": []
    },
    {
      "cell_type": "code",
      "source": [
        "# a = [이 안에 들어오는 애들을 인덱스라고 한다.]"
      ],
      "metadata": {
        "id": "YmeWHIYf7FTO"
      },
      "execution_count": null,
      "outputs": []
    },
    {
      "cell_type": "code",
      "source": [
        "음식 = ['라면','떡볶이','커피','짜장면','파스타','불족','피자','치킨']\n",
        "불족_인덱스 = 음식.index('불족') # 배열.index(찾고자하는 값) -> 찾고자하는 값의 인덱스를 찾아준다.\n",
        "print(불족_인덱스)"
      ],
      "metadata": {
        "colab": {
          "base_uri": "https://localhost:8080/"
        },
        "id": "5myAFiTs_Dgh",
        "outputId": "84ac9cec-91a3-401b-a4c7-05860a5edf91"
      },
      "execution_count": null,
      "outputs": [
        {
          "output_type": "stream",
          "name": "stdout",
          "text": [
            "5\n"
          ]
        }
      ]
    },
    {
      "cell_type": "code",
      "source": [
        "# 음식.index('소고기') -> 리스트 안에 '소고기'라는 값이 없기 때문에 오류가 발생한다."
      ],
      "metadata": {
        "id": "xeb4vfGH_l7E"
      },
      "execution_count": null,
      "outputs": []
    },
    {
      "cell_type": "code",
      "source": [
        "떡볶이_인덱스 = 음식.index('떡볶이')\n",
        "피자_인덱스 = 음식.index('피자')\n",
        "음식2 = 음식[떡볶이_인덱스:피자_인덱스]\n",
        "print(음식2)"
      ],
      "metadata": {
        "colab": {
          "base_uri": "https://localhost:8080/"
        },
        "id": "XrQnWuiv_zIQ",
        "outputId": "5f23f6c9-87bc-47d3-f495-cabac7bf000d"
      },
      "execution_count": null,
      "outputs": [
        {
          "output_type": "stream",
          "name": "stdout",
          "text": [
            "['떡볶이', '커피', '짜장면', '파스타', '불족']\n"
          ]
        }
      ]
    },
    {
      "cell_type": "code",
      "source": [
        "#삽입\n",
        "음식.insert(불족_인덱스, '소고기') # 불족_인데스 = 5 따라서 5번째 인덱스에다가 소고기 추가\n",
        "print(음식)"
      ],
      "metadata": {
        "colab": {
          "base_uri": "https://localhost:8080/"
        },
        "id": "ut0zQl_7Ai_W",
        "outputId": "d91e36ad-7abb-4fb9-a35a-f2397c7813f3"
      },
      "execution_count": null,
      "outputs": [
        {
          "output_type": "stream",
          "name": "stdout",
          "text": [
            "['라면', '떡볶이', '커피', '짜장면', '파스타', '소고기', '불족', '피자', '치킨']\n"
          ]
        }
      ]
    },
    {
      "cell_type": "code",
      "source": [
        "음식.pop() #pop() -> 맨 뒤에 값이 삭제됨, pop(여기다가 인덱스 적으면 그 인덱스에 값을 꺼내고 삭제함)"
      ],
      "metadata": {
        "colab": {
          "base_uri": "https://localhost:8080/",
          "height": 36
        },
        "id": "uZVT4HsYBMxp",
        "outputId": "ae79633b-46c2-40a1-9e7f-99e4acaafbb2"
      },
      "execution_count": null,
      "outputs": [
        {
          "output_type": "execute_result",
          "data": {
            "text/plain": [
              "'치킨'"
            ],
            "application/vnd.google.colaboratory.intrinsic+json": {
              "type": "string"
            }
          },
          "metadata": {},
          "execution_count": 129
        }
      ]
    },
    {
      "cell_type": "code",
      "source": [
        "print(음식)"
      ],
      "metadata": {
        "colab": {
          "base_uri": "https://localhost:8080/"
        },
        "id": "43LuIsPcBnOr",
        "outputId": "8b06a3cc-4840-408e-a1da-bd1f9682ba88"
      },
      "execution_count": null,
      "outputs": [
        {
          "output_type": "stream",
          "name": "stdout",
          "text": [
            "['라면', '떡볶이', '커피', '짜장면', '파스타', '소고기', '불족', '피자']\n"
          ]
        }
      ]
    },
    {
      "cell_type": "code",
      "source": [
        "음식.pop(2)"
      ],
      "metadata": {
        "colab": {
          "base_uri": "https://localhost:8080/",
          "height": 36
        },
        "id": "ao7RJcT3Bqbu",
        "outputId": "f7c13bcc-22ca-4231-daf1-732f6a534aaa"
      },
      "execution_count": null,
      "outputs": [
        {
          "output_type": "execute_result",
          "data": {
            "text/plain": [
              "'커피'"
            ],
            "application/vnd.google.colaboratory.intrinsic+json": {
              "type": "string"
            }
          },
          "metadata": {},
          "execution_count": 131
        }
      ]
    },
    {
      "cell_type": "code",
      "source": [
        "print(음식)"
      ],
      "metadata": {
        "colab": {
          "base_uri": "https://localhost:8080/"
        },
        "id": "DQBuWI9iB9Ky",
        "outputId": "d3fa297f-e953-41a4-af30-56102bfb21db"
      },
      "execution_count": null,
      "outputs": [
        {
          "output_type": "stream",
          "name": "stdout",
          "text": [
            "['라면', '떡볶이', '짜장면', '파스타', '소고기', '불족', '피자']\n"
          ]
        }
      ]
    },
    {
      "cell_type": "code",
      "source": [
        "음식.remove('불족')"
      ],
      "metadata": {
        "id": "w32wjzanCA9p"
      },
      "execution_count": null,
      "outputs": []
    },
    {
      "cell_type": "code",
      "source": [
        "print(음식)"
      ],
      "metadata": {
        "colab": {
          "base_uri": "https://localhost:8080/"
        },
        "id": "7sz_StgoCPjY",
        "outputId": "7cc93c56-285f-481e-8bdc-0dcf6e11ee7b"
      },
      "execution_count": null,
      "outputs": [
        {
          "output_type": "stream",
          "name": "stdout",
          "text": [
            "['라면', '떡볶이', '짜장면', '파스타', '소고기', '피자']\n"
          ]
        }
      ]
    },
    {
      "cell_type": "code",
      "source": [
        "꺼낸음식 = 음식.pop()\n",
        "print(꺼낸음식) #pop과 remove의 차이: pop은 리턴값을 처음에 갖고 있는다. return은 값을 진짜 없애기만 함."
      ],
      "metadata": {
        "colab": {
          "base_uri": "https://localhost:8080/"
        },
        "id": "3WLCvH-QCSyh",
        "outputId": "d7292e70-f950-4624-da1d-7c591d212335"
      },
      "execution_count": null,
      "outputs": [
        {
          "output_type": "stream",
          "name": "stdout",
          "text": [
            "피자\n"
          ]
        }
      ]
    },
    {
      "cell_type": "code",
      "source": [
        "삭제 = 음식.remove('라면')\n",
        "print(삭제)"
      ],
      "metadata": {
        "colab": {
          "base_uri": "https://localhost:8080/"
        },
        "id": "RKQXQbg8CbwB",
        "outputId": "6f132957-217b-4f9a-900a-2de4dacea983"
      },
      "execution_count": null,
      "outputs": [
        {
          "output_type": "stream",
          "name": "stdout",
          "text": [
            "None\n"
          ]
        }
      ]
    },
    {
      "cell_type": "code",
      "source": [
        "# 음식.remove('라면') -> 이미 없어서 다시 없애려고 하면 에러 반환"
      ],
      "metadata": {
        "id": "6O7t9ex0Cmwa"
      },
      "execution_count": null,
      "outputs": []
    },
    {
      "cell_type": "code",
      "source": [
        "a8 = [1, 1, 1, 2, 3, 4, 4, '하이','하이', 1, 2]\n",
        "하이_개수 = a8.count('하이')\n",
        "print(하이_개수)"
      ],
      "metadata": {
        "colab": {
          "base_uri": "https://localhost:8080/"
        },
        "id": "_L6xkatlC0Pg",
        "outputId": "cde29ffb-7232-4083-faf0-e4ac1932b1e2"
      },
      "execution_count": null,
      "outputs": [
        {
          "output_type": "stream",
          "name": "stdout",
          "text": [
            "2\n"
          ]
        }
      ]
    },
    {
      "cell_type": "code",
      "source": [
        "일의_개수 = a8.count(1)\n",
        "print(일의_개수)"
      ],
      "metadata": {
        "colab": {
          "base_uri": "https://localhost:8080/"
        },
        "id": "NuJpUnrhDtHU",
        "outputId": "54e8b836-e1a4-4a27-98f2-764ad4f0a4a1"
      },
      "execution_count": null,
      "outputs": [
        {
          "output_type": "stream",
          "name": "stdout",
          "text": [
            "4\n"
          ]
        }
      ]
    },
    {
      "cell_type": "code",
      "source": [
        "없는_거=a8.count('오현고') #없는 거 해도 에러 안나옴"
      ],
      "metadata": {
        "id": "Pf1SfUHRD1sp"
      },
      "execution_count": null,
      "outputs": []
    },
    {
      "cell_type": "code",
      "source": [
        "print(없는_거)"
      ],
      "metadata": {
        "colab": {
          "base_uri": "https://localhost:8080/"
        },
        "id": "pum40uGCD_UB",
        "outputId": "4ff0c4e6-1757-4e09-d2bb-e1a91c4d3028"
      },
      "execution_count": null,
      "outputs": [
        {
          "output_type": "stream",
          "name": "stdout",
          "text": [
            "0\n"
          ]
        }
      ]
    },
    {
      "cell_type": "code",
      "source": [
        "a9 = [1,2,3] #a9 처럼 객체나 요소는 기능을 가지고 있고, 그 기능(메쏘드)을 쓰기 위해서는 .을 치고 메쏘드를 입력하면 됨 method는 함수의 일종\n",
        "a10 = [4,5,6]\n",
        "a9.extend(a10)\n",
        "print(a9,\"a9\")\n",
        "print(a10,\"a10\")"
      ],
      "metadata": {
        "colab": {
          "base_uri": "https://localhost:8080/"
        },
        "id": "xd6jBDJGECbX",
        "outputId": "4cd28c59-a6c4-4d40-cb70-5a92df3b6e4c"
      },
      "execution_count": null,
      "outputs": [
        {
          "output_type": "stream",
          "name": "stdout",
          "text": [
            "[1, 2, 3, 4, 5, 6] a9\n",
            "[4, 5, 6] a10\n"
          ]
        }
      ]
    },
    {
      "cell_type": "code",
      "source": [
        "#변수명 설정은 그 변수가 무슨 값을 가지고 있는지 확실히 보여줄 수 있는 이름을 짓는게 좋다."
      ],
      "metadata": {
        "id": "2jXACJOuEZga"
      },
      "execution_count": null,
      "outputs": []
    },
    {
      "cell_type": "code",
      "source": [
        "a11 = [1,2,3]\n",
        "a12 = a11 #원본을 복사해서 값을 넣음/  얕은 복사 = 배열을 보고 있다. a11이 [1,2,3]을 보고 있고, a11 = a12니까 a12도 [1,2,3]을 보고 있다.\n",
        "print(a11, \"a11\")\n",
        "print(a12, \"a12\")\n",
        "a11[0]=10\n",
        "print(a11,\"a11\")\n",
        "print(a12,\"a12\")\n",
        "#원본을 넣었기 때문에 하나만 바꿔도 똑같이 바뀜\n",
        "#깊은 복사, 얕은 복사"
      ],
      "metadata": {
        "colab": {
          "base_uri": "https://localhost:8080/"
        },
        "id": "OwTpMAbJFXqk",
        "outputId": "b4f14ef3-7dbd-4220-e235-193e90ec2b19"
      },
      "execution_count": null,
      "outputs": [
        {
          "output_type": "stream",
          "name": "stdout",
          "text": [
            "[1, 2, 3] a11\n",
            "[1, 2, 3] a12\n",
            "[10, 2, 3] a11\n",
            "[10, 2, 3] a12\n"
          ]
        }
      ]
    },
    {
      "cell_type": "code",
      "source": [
        "a11 = [1,2,3]\n",
        "a12 = a11[:] \n",
        "print(a11, \"a11\")\n",
        "print(a12, \"a12\")\n",
        "a11[0]=10\n",
        "print(a11,\"a11\")\n",
        "print(a12,\"a12\")"
      ],
      "metadata": {
        "colab": {
          "base_uri": "https://localhost:8080/"
        },
        "id": "VFbJDBzfFmZ8",
        "outputId": "c5538ead-59d8-447d-d6bd-cc35c13d76bc"
      },
      "execution_count": null,
      "outputs": [
        {
          "output_type": "stream",
          "name": "stdout",
          "text": [
            "[1, 2, 3] a11\n",
            "[1, 2, 3] a12\n",
            "[10, 2, 3] a11\n",
            "[1, 2, 3] a12\n"
          ]
        }
      ]
    },
    {
      "cell_type": "code",
      "source": [
        "a11 = [1,2,3]\n",
        "a12 = a11.copy() #깊은 복사 = 똑같이 생겼지만 다른거다 식의 의미\n",
        "print(a11, \"a11\")\n",
        "print(a12, \"a12\")\n",
        "a11[0]=10\n",
        "print(a11,\"a11\")\n",
        "print(a12,\"a12\")"
      ],
      "metadata": {
        "colab": {
          "base_uri": "https://localhost:8080/"
        },
        "id": "GBneEh-VGOhn",
        "outputId": "a812b539-7717-4f3a-9aa9-c678fbb41359"
      },
      "execution_count": null,
      "outputs": [
        {
          "output_type": "stream",
          "name": "stdout",
          "text": [
            "[1, 2, 3] a11\n",
            "[1, 2, 3] a12\n",
            "[10, 2, 3] a11\n",
            "[1, 2, 3] a12\n"
          ]
        }
      ]
    },
    {
      "cell_type": "code",
      "source": [
        "a13 = [1,2,3,4,5]\n",
        "print(a13, \"클리어 이전\")\n",
        "a13.clear()\n",
        "print(a13, \"클리어 이후\")"
      ],
      "metadata": {
        "colab": {
          "base_uri": "https://localhost:8080/"
        },
        "id": "9TKnuLbyGVnL",
        "outputId": "ac0959e7-03d7-4403-a3ef-f5810eb4163c"
      },
      "execution_count": null,
      "outputs": [
        {
          "output_type": "stream",
          "name": "stdout",
          "text": [
            "[1, 2, 3, 4, 5] 클리어 이전\n",
            "[] 클리어 이후\n"
          ]
        }
      ]
    },
    {
      "cell_type": "markdown",
      "source": [
        "# 튜플"
      ],
      "metadata": {
        "id": "fKs6nscyHeVf"
      }
    },
    {
      "cell_type": "code",
      "source": [
        "튜플 = (1,2,3)\n",
        "print(튜플)"
      ],
      "metadata": {
        "colab": {
          "base_uri": "https://localhost:8080/"
        },
        "id": "yviD0_OsHnJL",
        "outputId": "1676faac-04af-4293-d86a-df3a9ed535ea"
      },
      "execution_count": null,
      "outputs": [
        {
          "output_type": "stream",
          "name": "stdout",
          "text": [
            "(1, 2, 3)\n"
          ]
        }
      ]
    },
    {
      "cell_type": "code",
      "source": [
        "print(type(튜플))"
      ],
      "metadata": {
        "colab": {
          "base_uri": "https://localhost:8080/"
        },
        "id": "Xjjy0Yr9QnSW",
        "outputId": "5a590ee2-4b1f-4fbd-94cb-20add3663462"
      },
      "execution_count": null,
      "outputs": [
        {
          "output_type": "stream",
          "name": "stdout",
          "text": [
            "<class 'tuple'>\n"
          ]
        }
      ]
    },
    {
      "cell_type": "code",
      "source": [
        "print(튜플[0])"
      ],
      "metadata": {
        "colab": {
          "base_uri": "https://localhost:8080/"
        },
        "id": "QhyTmUqCHvFg",
        "outputId": "78d0887b-189b-45fc-e2b4-4e10d57cdfb2"
      },
      "execution_count": null,
      "outputs": [
        {
          "output_type": "stream",
          "name": "stdout",
          "text": [
            "1\n"
          ]
        }
      ]
    },
    {
      "cell_type": "code",
      "source": [
        "# 튜플[0] = 10 -> 오류 발생\n",
        "#튜플은 값을 바꿀 수 없음. 인덱스, 슬라이싱은 ㅇㅋ"
      ],
      "metadata": {
        "id": "5StI464-HxKH"
      },
      "execution_count": null,
      "outputs": []
    },
    {
      "cell_type": "code",
      "source": [
        "샘플_배열 = [1,2,3]\n",
        "print(샘플_배열)\n",
        "del 샘플_배열[0] #del은 배열만들고 걔가 갖는 기능이 아님. 따라서 모든 값을 지울 수 있는데, 튜플 안에 있는 값은 안됨.\n",
        "print(샘플_배열)"
      ],
      "metadata": {
        "colab": {
          "base_uri": "https://localhost:8080/"
        },
        "id": "3o01Q_gyH59r",
        "outputId": "ecafadf8-0b59-4b29-ca28-f7e23e057ab5"
      },
      "execution_count": null,
      "outputs": [
        {
          "output_type": "stream",
          "name": "stdout",
          "text": [
            "[1, 2, 3]\n",
            "[2, 3]\n"
          ]
        }
      ]
    },
    {
      "cell_type": "code",
      "source": [
        "변수 = 1\n",
        "print(변수)"
      ],
      "metadata": {
        "colab": {
          "base_uri": "https://localhost:8080/"
        },
        "id": "pLpmGcNrIRPE",
        "outputId": "a128436d-1451-40ca-a9ea-86920deb52ff"
      },
      "execution_count": null,
      "outputs": [
        {
          "output_type": "stream",
          "name": "stdout",
          "text": [
            "1\n"
          ]
        }
      ]
    },
    {
      "cell_type": "code",
      "source": [
        "#del 변수\n",
        "#print(변수) -> del은 변수도 지워버려서 에러 발생"
      ],
      "metadata": {
        "id": "KIv4atbRIUtp"
      },
      "execution_count": null,
      "outputs": []
    },
    {
      "cell_type": "code",
      "source": [
        "# del 튜플[0] -> del 써도 튜플은 못 지움."
      ],
      "metadata": {
        "id": "vSbmXVVEIYqU"
      },
      "execution_count": null,
      "outputs": []
    },
    {
      "cell_type": "code",
      "source": [
        "튜플1=(1,2,3,[1,2,3]) #튜플 속에 무슨 값이든 들어올 수 있다.\\\n",
        "print(튜플1)\n",
        "튜플1[-1][0] = 10\n",
        "print(튜플1)\n",
        "#튜플 속에 있는 리스트는 값을 바꿀 수 있음 왜 why -> 리스트를 상자라고 생각하고, 튜플 속 리스트의 주소를 1번이라고 하면 그 리스트 속 인덱스들은 각각 다른 주소를 가지고 있기 때문에 그 인덱스들을 바꿔도 튜플이 가지고 있는 값이 바뀐게 아니다./ 변수 = [1,2,3] 리스트는 []-> 1번 주소 만 있음 1,2,3 은 각각 2,3,4 번주소 이런 식 -> 이게 깊은 복사 얕은 복사와 관련된 개념\n",
        "\n"
      ],
      "metadata": {
        "colab": {
          "base_uri": "https://localhost:8080/"
        },
        "id": "GVNF44NTIgqT",
        "outputId": "cf2a736d-7d09-473b-f253-ba2ad5ad539e"
      },
      "execution_count": null,
      "outputs": [
        {
          "output_type": "stream",
          "name": "stdout",
          "text": [
            "(1, 2, 3, [1, 2, 3])\n",
            "(1, 2, 3, [10, 2, 3])\n"
          ]
        }
      ]
    },
    {
      "cell_type": "code",
      "source": [
        "# 튜플1[-1]= 10 -> 리스트여도 못바꿔 !리스트 속 값은 바꿀 수 있지만!"
      ],
      "metadata": {
        "id": "o-dlAZldJXlY"
      },
      "execution_count": null,
      "outputs": []
    },
    {
      "cell_type": "code",
      "source": [
        "print(튜플[:2])"
      ],
      "metadata": {
        "colab": {
          "base_uri": "https://localhost:8080/"
        },
        "id": "zN0vKDNqJz6Z",
        "outputId": "b4fb23fc-26d5-4602-aa53-27d9478604db"
      },
      "execution_count": null,
      "outputs": [
        {
          "output_type": "stream",
          "name": "stdout",
          "text": [
            "(1, 2)\n"
          ]
        }
      ]
    },
    {
      "cell_type": "code",
      "source": [
        "print(튜플[:1]) #(1,)로 나오는데 왜 (1)이 아닌걸까? ->"
      ],
      "metadata": {
        "colab": {
          "base_uri": "https://localhost:8080/"
        },
        "id": "k2AxvlTTKBum",
        "outputId": "980009a4-c256-4a80-96d0-1e88578dbdc2"
      },
      "execution_count": null,
      "outputs": [
        {
          "output_type": "stream",
          "name": "stdout",
          "text": [
            "(1,)\n"
          ]
        }
      ]
    },
    {
      "cell_type": "code",
      "source": [
        "dir(튜플)"
      ],
      "metadata": {
        "colab": {
          "base_uri": "https://localhost:8080/"
        },
        "id": "bC-zcaz9KIls",
        "outputId": "a2464225-6201-4eb3-d439-5ab0d1970b20"
      },
      "execution_count": null,
      "outputs": [
        {
          "output_type": "execute_result",
          "data": {
            "text/plain": [
              "['__add__',\n",
              " '__class__',\n",
              " '__contains__',\n",
              " '__delattr__',\n",
              " '__dir__',\n",
              " '__doc__',\n",
              " '__eq__',\n",
              " '__format__',\n",
              " '__ge__',\n",
              " '__getattribute__',\n",
              " '__getitem__',\n",
              " '__getnewargs__',\n",
              " '__gt__',\n",
              " '__hash__',\n",
              " '__init__',\n",
              " '__init_subclass__',\n",
              " '__iter__',\n",
              " '__le__',\n",
              " '__len__',\n",
              " '__lt__',\n",
              " '__mul__',\n",
              " '__ne__',\n",
              " '__new__',\n",
              " '__reduce__',\n",
              " '__reduce_ex__',\n",
              " '__repr__',\n",
              " '__rmul__',\n",
              " '__setattr__',\n",
              " '__sizeof__',\n",
              " '__str__',\n",
              " '__subclasshook__',\n",
              " 'count',\n",
              " 'index']"
            ]
          },
          "metadata": {},
          "execution_count": 169
        }
      ]
    },
    {
      "cell_type": "code",
      "source": [
        "len(튜플)"
      ],
      "metadata": {
        "colab": {
          "base_uri": "https://localhost:8080/"
        },
        "id": "BvhL_68uPX05",
        "outputId": "43973e1e-01aa-4959-a99c-07146c4f0533"
      },
      "execution_count": null,
      "outputs": [
        {
          "output_type": "execute_result",
          "data": {
            "text/plain": [
              "3"
            ]
          },
          "metadata": {},
          "execution_count": 171
        }
      ]
    },
    {
      "cell_type": "markdown",
      "source": [
        "튜플은 변경돼선 안되는 값들을 저장할 때 사용."
      ],
      "metadata": {
        "id": "qnWuFyVhPxHP"
      }
    },
    {
      "cell_type": "code",
      "source": [
        ""
      ],
      "metadata": {
        "id": "sy7XMqvfP35h"
      },
      "execution_count": null,
      "outputs": []
    },
    {
      "cell_type": "markdown",
      "source": [
        "# 딕셔너리"
      ],
      "metadata": {
        "id": "PWO5mRQsP-dH"
      }
    },
    {
      "cell_type": "code",
      "source": [
        "#키와 값으로 이루어져있다.\n",
        "딕셔너리 = {'키':'값'}"
      ],
      "metadata": {
        "id": "KoBjTSdfP__0"
      },
      "execution_count": null,
      "outputs": []
    },
    {
      "cell_type": "code",
      "source": [
        "print(딕셔너리)\n",
        "#{:}-> 딕셔너리\n",
        "print(딕셔너리['키'])"
      ],
      "metadata": {
        "colab": {
          "base_uri": "https://localhost:8080/"
        },
        "id": "epdZrz8GQJUw",
        "outputId": "7c35ee52-8912-469c-a8a4-305ad1aae911"
      },
      "execution_count": null,
      "outputs": [
        {
          "output_type": "stream",
          "name": "stdout",
          "text": [
            "{'키': '값'}\n",
            "값\n"
          ]
        }
      ]
    },
    {
      "cell_type": "code",
      "source": [
        "print(type(딕셔너리))"
      ],
      "metadata": {
        "colab": {
          "base_uri": "https://localhost:8080/"
        },
        "id": "YmIixgJ4QVPJ",
        "outputId": "b6977169-8b74-4f7f-80c2-8392361a8b83"
      },
      "execution_count": null,
      "outputs": [
        {
          "output_type": "stream",
          "name": "stdout",
          "text": [
            "<class 'dict'>\n"
          ]
        }
      ]
    },
    {
      "cell_type": "code",
      "source": [
        "회원정보 = {\n",
        "    '이름':'환', \n",
        "    '번호':'010-0000-0000', \n",
        "    '성별':'남'}"
      ],
      "metadata": {
        "id": "a9KhhJ6-Qx_P"
      },
      "execution_count": null,
      "outputs": []
    },
    {
      "cell_type": "code",
      "source": [
        "print(회원정보['이름'])"
      ],
      "metadata": {
        "colab": {
          "base_uri": "https://localhost:8080/"
        },
        "id": "reCFF3nYQ_79",
        "outputId": "ad229e50-9809-47d5-b07c-1f33387a5fb6"
      },
      "execution_count": null,
      "outputs": [
        {
          "output_type": "stream",
          "name": "stdout",
          "text": [
            "환\n"
          ]
        }
      ]
    },
    {
      "cell_type": "code",
      "source": [
        "회원정보['주소']='제주시' # 키와값을 추가한다.\n",
        "print(회원정보['주소'])"
      ],
      "metadata": {
        "colab": {
          "base_uri": "https://localhost:8080/"
        },
        "id": "g7hB7BEmRSvB",
        "outputId": "22117829-5fa2-4b14-d8ac-38db1a83c637"
      },
      "execution_count": null,
      "outputs": [
        {
          "output_type": "stream",
          "name": "stdout",
          "text": [
            "제주시\n"
          ]
        }
      ]
    },
    {
      "cell_type": "code",
      "source": [
        "회원정보['번호']='010-0000-0001' #-> 번호가 추가 되는게 아니라 변함\n",
        "print(회원정보['번호'])"
      ],
      "metadata": {
        "colab": {
          "base_uri": "https://localhost:8080/"
        },
        "id": "s7jlpcyqRnOk",
        "outputId": "c582af6f-3ff9-4be5-d766-d01f7d9d88fd"
      },
      "execution_count": null,
      "outputs": [
        {
          "output_type": "stream",
          "name": "stdout",
          "text": [
            "010-0000-0001\n"
          ]
        }
      ]
    },
    {
      "cell_type": "code",
      "source": [
        "회원정보2 = {\n",
        "    '이름':'환', \n",
        "    '번호':'010-0000-0000', \n",
        "    '성별':'남',\n",
        "    '번호':'010-000-0001'} #중복되는 키는 허용 X 중복될 경우 맨 밑에 있는걸로 키, 값을 저장"
      ],
      "metadata": {
        "id": "vdEo2otDR6UK"
      },
      "execution_count": null,
      "outputs": []
    },
    {
      "cell_type": "code",
      "source": [
        "회원정보.keys()"
      ],
      "metadata": {
        "colab": {
          "base_uri": "https://localhost:8080/"
        },
        "id": "Rp8eJ5IMSH-n",
        "outputId": "b8af9a07-987c-4aa2-8cd2-94a61e30a1dd"
      },
      "execution_count": null,
      "outputs": [
        {
          "output_type": "execute_result",
          "data": {
            "text/plain": [
              "dict_keys(['이름', '번호', '성별', '주소'])"
            ]
          },
          "metadata": {},
          "execution_count": 197
        }
      ]
    },
    {
      "cell_type": "code",
      "source": [
        "dir(회원정보)"
      ],
      "metadata": {
        "colab": {
          "base_uri": "https://localhost:8080/"
        },
        "id": "-Sp1YZyhSKV6",
        "outputId": "4fe644d4-8d03-4bfe-8f72-cd1e87d2a0b5"
      },
      "execution_count": null,
      "outputs": [
        {
          "output_type": "execute_result",
          "data": {
            "text/plain": [
              "['__class__',\n",
              " '__contains__',\n",
              " '__delattr__',\n",
              " '__delitem__',\n",
              " '__dir__',\n",
              " '__doc__',\n",
              " '__eq__',\n",
              " '__format__',\n",
              " '__ge__',\n",
              " '__getattribute__',\n",
              " '__getitem__',\n",
              " '__gt__',\n",
              " '__hash__',\n",
              " '__init__',\n",
              " '__init_subclass__',\n",
              " '__iter__',\n",
              " '__le__',\n",
              " '__len__',\n",
              " '__lt__',\n",
              " '__ne__',\n",
              " '__new__',\n",
              " '__reduce__',\n",
              " '__reduce_ex__',\n",
              " '__repr__',\n",
              " '__setattr__',\n",
              " '__setitem__',\n",
              " '__sizeof__',\n",
              " '__str__',\n",
              " '__subclasshook__',\n",
              " 'clear',\n",
              " 'copy',\n",
              " 'fromkeys',\n",
              " 'get',\n",
              " 'items',\n",
              " 'keys',\n",
              " 'pop',\n",
              " 'popitem',\n",
              " 'setdefault',\n",
              " 'update',\n",
              " 'values']"
            ]
          },
          "metadata": {},
          "execution_count": 198
        }
      ]
    },
    {
      "cell_type": "code",
      "source": [
        "회원정보키 = 회원정보.keys()\n",
        "회원정보값 = 회원정보.values()\n",
        "print(회원정보키, \"키\")\n",
        "print(회원정보값, \"값\")"
      ],
      "metadata": {
        "colab": {
          "base_uri": "https://localhost:8080/"
        },
        "id": "mCyjfKrNSYSN",
        "outputId": "11da4d12-ec45-4091-9491-c30099c71171"
      },
      "execution_count": null,
      "outputs": [
        {
          "output_type": "stream",
          "name": "stdout",
          "text": [
            "dict_keys(['이름', '번호', '성별', '주소']) 키\n",
            "dict_values(['환', '010-0000-0001', '남', '제주시']) 값\n"
          ]
        }
      ]
    },
    {
      "cell_type": "code",
      "source": [
        "이름get = 회원정보.get('이름')\n",
        "이름 = 회원정보['이름']\n",
        "print(이름get, 'get이용')\n",
        "print(이름, \"key이용하여 가져옴\")"
      ],
      "metadata": {
        "colab": {
          "base_uri": "https://localhost:8080/"
        },
        "id": "175MKHqfSsXm",
        "outputId": "3b34ce17-075d-454d-fd48-112a4e7e1521"
      },
      "execution_count": null,
      "outputs": [
        {
          "output_type": "stream",
          "name": "stdout",
          "text": [
            "환 get이용\n",
            "환 key이용하여 가져옴\n"
          ]
        }
      ]
    },
    {
      "cell_type": "code",
      "source": [
        "샘플_딕셔너리 ={\n",
        "    \"배열1\":[1,2,3]\n",
        "\n",
        "}\n",
        "배열get = 샘플_딕셔너리.get(\"배열2\") #-> 값이 없어도 None을 출력\n",
        "#배열키로가져오기 = 샘플_딕셔너리['배열1'] -> 값이 없을 경우에는 에러"
      ],
      "metadata": {
        "id": "LFOEWw6LTTAD"
      },
      "execution_count": 204,
      "outputs": []
    },
    {
      "cell_type": "code",
      "source": [
        "print(배열get)"
      ],
      "metadata": {
        "id": "GQDekFHbTfMX",
        "colab": {
          "base_uri": "https://localhost:8080/"
        },
        "outputId": "401d9ad7-202a-4730-beac-1cb962579745"
      },
      "execution_count": 205,
      "outputs": [
        {
          "output_type": "stream",
          "name": "stdout",
          "text": [
            "None\n"
          ]
        }
      ]
    },
    {
      "cell_type": "code",
      "source": [
        "'이름' in 회원정보"
      ],
      "metadata": {
        "colab": {
          "base_uri": "https://localhost:8080/"
        },
        "id": "7fjdvIQtUhMc",
        "outputId": "755242bd-39aa-44a3-e40f-d4d955546391"
      },
      "execution_count": 206,
      "outputs": [
        {
          "output_type": "execute_result",
          "data": {
            "text/plain": [
              "True"
            ]
          },
          "metadata": {},
          "execution_count": 206
        }
      ]
    },
    {
      "cell_type": "code",
      "source": [
        "'직업' in 회원정보"
      ],
      "metadata": {
        "colab": {
          "base_uri": "https://localhost:8080/"
        },
        "id": "FKIGg69fUo9N",
        "outputId": "c3c5c05f-ebde-418b-a865-89c81420159d"
      },
      "execution_count": 207,
      "outputs": [
        {
          "output_type": "execute_result",
          "data": {
            "text/plain": [
              "False"
            ]
          },
          "metadata": {},
          "execution_count": 207
        }
      ]
    },
    {
      "cell_type": "markdown",
      "source": [
        "# Bool 자료형"
      ],
      "metadata": {
        "id": "H8HEa7xKUtdn"
      }
    },
    {
      "cell_type": "code",
      "source": [
        "print(True)"
      ],
      "metadata": {
        "colab": {
          "base_uri": "https://localhost:8080/"
        },
        "id": "PhY1SnwvUvrU",
        "outputId": "9faf8349-dc6a-4aff-ae03-afcdf250c38d"
      },
      "execution_count": 208,
      "outputs": [
        {
          "output_type": "stream",
          "name": "stdout",
          "text": [
            "True\n"
          ]
        }
      ]
    },
    {
      "cell_type": "code",
      "source": [
        "print(False)"
      ],
      "metadata": {
        "colab": {
          "base_uri": "https://localhost:8080/"
        },
        "id": "_Vy46dSTUxmo",
        "outputId": "4d9efc8b-2425-4b91-bd7d-9ba165a75851"
      },
      "execution_count": 209,
      "outputs": [
        {
          "output_type": "stream",
          "name": "stdout",
          "text": [
            "False\n"
          ]
        }
      ]
    },
    {
      "cell_type": "code",
      "source": [
        "print(type(True))"
      ],
      "metadata": {
        "colab": {
          "base_uri": "https://localhost:8080/"
        },
        "id": "Ljhkpv0yU1bl",
        "outputId": "4b0b5c8e-05d8-4714-a0c6-90a40895532f"
      },
      "execution_count": 210,
      "outputs": [
        {
          "output_type": "stream",
          "name": "stdout",
          "text": [
            "<class 'bool'>\n"
          ]
        }
      ]
    },
    {
      "cell_type": "code",
      "source": [
        "print(type(False))"
      ],
      "metadata": {
        "colab": {
          "base_uri": "https://localhost:8080/"
        },
        "id": "P7oxhKowU3gc",
        "outputId": "aa775686-f659-4a1a-bbdc-3a4f1b70f66d"
      },
      "execution_count": 211,
      "outputs": [
        {
          "output_type": "stream",
          "name": "stdout",
          "text": [
            "<class 'bool'>\n"
          ]
        }
      ]
    },
    {
      "cell_type": "code",
      "source": [
        "dir(True)"
      ],
      "metadata": {
        "colab": {
          "base_uri": "https://localhost:8080/"
        },
        "id": "z9fciaYUU7j4",
        "outputId": "37869324-79b8-4af3-a147-91fad52a4549"
      },
      "execution_count": 212,
      "outputs": [
        {
          "output_type": "execute_result",
          "data": {
            "text/plain": [
              "['__abs__',\n",
              " '__add__',\n",
              " '__and__',\n",
              " '__bool__',\n",
              " '__ceil__',\n",
              " '__class__',\n",
              " '__delattr__',\n",
              " '__dir__',\n",
              " '__divmod__',\n",
              " '__doc__',\n",
              " '__eq__',\n",
              " '__float__',\n",
              " '__floor__',\n",
              " '__floordiv__',\n",
              " '__format__',\n",
              " '__ge__',\n",
              " '__getattribute__',\n",
              " '__getnewargs__',\n",
              " '__gt__',\n",
              " '__hash__',\n",
              " '__index__',\n",
              " '__init__',\n",
              " '__init_subclass__',\n",
              " '__int__',\n",
              " '__invert__',\n",
              " '__le__',\n",
              " '__lshift__',\n",
              " '__lt__',\n",
              " '__mod__',\n",
              " '__mul__',\n",
              " '__ne__',\n",
              " '__neg__',\n",
              " '__new__',\n",
              " '__or__',\n",
              " '__pos__',\n",
              " '__pow__',\n",
              " '__radd__',\n",
              " '__rand__',\n",
              " '__rdivmod__',\n",
              " '__reduce__',\n",
              " '__reduce_ex__',\n",
              " '__repr__',\n",
              " '__rfloordiv__',\n",
              " '__rlshift__',\n",
              " '__rmod__',\n",
              " '__rmul__',\n",
              " '__ror__',\n",
              " '__round__',\n",
              " '__rpow__',\n",
              " '__rrshift__',\n",
              " '__rshift__',\n",
              " '__rsub__',\n",
              " '__rtruediv__',\n",
              " '__rxor__',\n",
              " '__setattr__',\n",
              " '__sizeof__',\n",
              " '__str__',\n",
              " '__sub__',\n",
              " '__subclasshook__',\n",
              " '__truediv__',\n",
              " '__trunc__',\n",
              " '__xor__',\n",
              " 'bit_length',\n",
              " 'conjugate',\n",
              " 'denominator',\n",
              " 'from_bytes',\n",
              " 'imag',\n",
              " 'numerator',\n",
              " 'real',\n",
              " 'to_bytes']"
            ]
          },
          "metadata": {},
          "execution_count": 212
        }
      ]
    },
    {
      "cell_type": "markdown",
      "source": [
        "# 비교"
      ],
      "metadata": {
        "id": "EHY1oSprVHlh"
      }
    },
    {
      "cell_type": "code",
      "source": [
        "숫자1=10\n",
        "숫자2=20"
      ],
      "metadata": {
        "id": "8FasTkhyU8_t"
      },
      "execution_count": 213,
      "outputs": []
    },
    {
      "cell_type": "code",
      "source": [
        "결과1 = 숫자1<숫자2\n",
        "print(결과1)"
      ],
      "metadata": {
        "colab": {
          "base_uri": "https://localhost:8080/"
        },
        "id": "rRFJZ2BtVMFX",
        "outputId": "d1d4cf87-aa5b-4916-e92f-9489a8a03b30"
      },
      "execution_count": 217,
      "outputs": [
        {
          "output_type": "stream",
          "name": "stdout",
          "text": [
            "True\n"
          ]
        }
      ]
    },
    {
      "cell_type": "code",
      "source": [
        "결과2 = 숫자1 == 숫자2\n",
        "print(결과2)"
      ],
      "metadata": {
        "colab": {
          "base_uri": "https://localhost:8080/"
        },
        "id": "E6I9rHxeVO9r",
        "outputId": "de0f48c6-7d5f-4ad3-aa48-8ecfaa7fb728"
      },
      "execution_count": 218,
      "outputs": [
        {
          "output_type": "stream",
          "name": "stdout",
          "text": [
            "False\n"
          ]
        }
      ]
    },
    {
      "cell_type": "code",
      "source": [
        "결과3 = 숫자1>숫자2\n",
        "print(결과3)"
      ],
      "metadata": {
        "colab": {
          "base_uri": "https://localhost:8080/"
        },
        "id": "pN3hbswYVR8T",
        "outputId": "af954b02-4caa-4f0d-f5f5-f94b4f682e16"
      },
      "execution_count": 220,
      "outputs": [
        {
          "output_type": "stream",
          "name": "stdout",
          "text": [
            "False\n"
          ]
        }
      ]
    },
    {
      "cell_type": "code",
      "source": [
        "결과4 = 숫자1 <= 숫자2\n",
        "결과5 = 숫자1 >= 숫자2\n",
        "결과6 = 숫자1 != 숫자2"
      ],
      "metadata": {
        "id": "cu_JJKo_VUd1"
      },
      "execution_count": 221,
      "outputs": []
    },
    {
      "cell_type": "code",
      "source": [
        "print(결과4,결과5,결과6)"
      ],
      "metadata": {
        "colab": {
          "base_uri": "https://localhost:8080/"
        },
        "id": "ZwyE5dBTVzzr",
        "outputId": "319fd2f3-d86c-43fa-a80b-2c19d616a080"
      },
      "execution_count": 222,
      "outputs": [
        {
          "output_type": "stream",
          "name": "stdout",
          "text": [
            "True False True\n"
          ]
        }
      ]
    },
    {
      "cell_type": "markdown",
      "source": [
        "#조건문"
      ],
      "metadata": {
        "id": "UahRttQJWIWv"
      }
    },
    {
      "cell_type": "code",
      "source": [
        "# if Boolean(True or Ralse): 하고 실행할 내용을 입력/ 조건문은 조건이 참일 때 실행됨.\n",
        "if False:\n",
        "    print(\"거짓입니다.\")"
      ],
      "metadata": {
        "id": "nPFqVmGEV3Wb"
      },
      "execution_count": 225,
      "outputs": []
    },
    {
      "cell_type": "code",
      "source": [
        "if True:\n",
        "    print(\"참입니다.\")"
      ],
      "metadata": {
        "colab": {
          "base_uri": "https://localhost:8080/"
        },
        "id": "b0cXmPTkWsn1",
        "outputId": "ab2669b4-e21a-45e6-db01-289168e10085"
      },
      "execution_count": 226,
      "outputs": [
        {
          "output_type": "stream",
          "name": "stdout",
          "text": [
            "참입니다.\n"
          ]
        }
      ]
    },
    {
      "cell_type": "code",
      "source": [
        "not True"
      ],
      "metadata": {
        "colab": {
          "base_uri": "https://localhost:8080/"
        },
        "id": "VrKu1vq5WwnN",
        "outputId": "89a97bde-960d-4248-c1fb-874863561eb5"
      },
      "execution_count": 227,
      "outputs": [
        {
          "output_type": "execute_result",
          "data": {
            "text/plain": [
              "False"
            ]
          },
          "metadata": {},
          "execution_count": 227
        }
      ]
    },
    {
      "cell_type": "code",
      "source": [
        "조건 = False\n",
        "if not 조건:\n",
        "    print(\"거짓입니다.\")\n",
        "else:\n",
        "    print(\"조건에 맞는 것이 없습니다.\")"
      ],
      "metadata": {
        "colab": {
          "base_uri": "https://localhost:8080/"
        },
        "id": "zqMM-HnMW53o",
        "outputId": "1c9d10df-b9b5-4c1b-f109-748612b15709"
      },
      "execution_count": 229,
      "outputs": [
        {
          "output_type": "stream",
          "name": "stdout",
          "text": [
            "거짓입니다.\n"
          ]
        }
      ]
    },
    {
      "cell_type": "code",
      "source": [
        "조건 = True\n",
        "if not 조건:\n",
        "    print(\"거짓입니다.\")\n",
        "else:\n",
        "    print(\"조건에 맞는 것이 없습니다.\") #else는 조건 이외의 것이다. 무조건 위가 True라고 해서 else는 False일 때라고 생각하면 헷갈릴 때가 있을 수 있다."
      ],
      "metadata": {
        "colab": {
          "base_uri": "https://localhost:8080/"
        },
        "id": "kRbBcCuJXOiq",
        "outputId": "ba75b1dd-61b8-4993-ed1b-af3d960c9509"
      },
      "execution_count": 231,
      "outputs": [
        {
          "output_type": "stream",
          "name": "stdout",
          "text": [
            "조건에 맞는 것이 없습니다.\n"
          ]
        }
      ]
    },
    {
      "cell_type": "code",
      "source": [
        "숫자1=1\n",
        "숫자2=10\n",
        "숫자3=15"
      ],
      "metadata": {
        "id": "0qBUScOXXZ9x"
      },
      "execution_count": 233,
      "outputs": []
    },
    {
      "cell_type": "code",
      "source": [
        "#if로 시작해서 elif는 몇개든 상관 없고, else로 끝난다 보통\n",
        "if 숫자1>5:\n",
        "    print(\"숫자1이 5보다 큽니다.\")\n",
        "elif 숫자2<11:\n",
        "    print(\"숫자2가 11보다 작습니다.\")\n",
        "else:\n",
        "    print(숫자3,\"마지막 숫자 입니다.\")"
      ],
      "metadata": {
        "colab": {
          "base_uri": "https://localhost:8080/"
        },
        "id": "zNr69PsiXnDf",
        "outputId": "efb1c10a-65ed-40bc-d7a0-dfe157509291"
      },
      "execution_count": 236,
      "outputs": [
        {
          "output_type": "stream",
          "name": "stdout",
          "text": [
            "숫자2가 11보다 작습니다.\n"
          ]
        }
      ]
    },
    {
      "cell_type": "markdown",
      "source": [
        "#논리 연산"
      ],
      "metadata": {
        "id": "j1M_3wxqYRLD"
      }
    },
    {
      "cell_type": "code",
      "source": [
        "#and, or\n",
        "print(False and False)\n",
        "print(True and False)"
      ],
      "metadata": {
        "colab": {
          "base_uri": "https://localhost:8080/"
        },
        "id": "J1DO1lfFX_Jd",
        "outputId": "760fb935-3338-4dd1-8abb-949981ad58a5"
      },
      "execution_count": 239,
      "outputs": [
        {
          "output_type": "stream",
          "name": "stdout",
          "text": [
            "False\n",
            "False\n"
          ]
        }
      ]
    },
    {
      "cell_type": "code",
      "source": [
        "print(True or False)"
      ],
      "metadata": {
        "colab": {
          "base_uri": "https://localhost:8080/"
        },
        "id": "4i-Sw63PZALj",
        "outputId": "84839e9e-5b95-4976-d750-319c8947d851"
      },
      "execution_count": 240,
      "outputs": [
        {
          "output_type": "stream",
          "name": "stdout",
          "text": [
            "True\n"
          ]
        }
      ]
    },
    {
      "cell_type": "code",
      "source": [
        "#and는 둘다 True, or는 둘 중 하나만 True여도 됨."
      ],
      "metadata": {
        "id": "W-NAydP3ZG0B"
      },
      "execution_count": 241,
      "outputs": []
    },
    {
      "cell_type": "code",
      "source": [
        "숫자1=1\n",
        "숫자2=10\n",
        "숫자3=15\n",
        "\n",
        "if 숫자1>5 or 숫자2<11:\n",
        "    print(\"숫자1이 5보다 큽니다. 또는 숫자2가 11보다 작습니다.\")\n",
        "elif 숫자2<11:\n",
        "    print(\"숫자2가 11보다 작습니다.\")\n",
        "else:\n",
        "    print(숫자3,\"마지막 숫자 입니다.\")"
      ],
      "metadata": {
        "colab": {
          "base_uri": "https://localhost:8080/"
        },
        "id": "ZaNzvpzUZNiR",
        "outputId": "0df0cedd-3b44-4f4f-8838-a86c605f6cf3"
      },
      "execution_count": 242,
      "outputs": [
        {
          "output_type": "stream",
          "name": "stdout",
          "text": [
            "숫자1이 5보다 큽니다. 또는 숫자2가 11보다 작습니다.\n"
          ]
        }
      ]
    },
    {
      "cell_type": "code",
      "source": [
        "입력_받은_값 = input()"
      ],
      "metadata": {
        "colab": {
          "base_uri": "https://localhost:8080/"
        },
        "id": "U9qZFU11Zi14",
        "outputId": "1b4e48b9-52b5-4ea3-d070-800b059b8954"
      },
      "execution_count": 243,
      "outputs": [
        {
          "name": "stdout",
          "output_type": "stream",
          "text": [
            "10\n"
          ]
        }
      ]
    },
    {
      "cell_type": "code",
      "source": [
        "print(입력_받은_값) #input으로 입력 받으면 str형으로 저장"
      ],
      "metadata": {
        "colab": {
          "base_uri": "https://localhost:8080/"
        },
        "id": "18QtWQuBZ0OU",
        "outputId": "551f6da6-bc2c-4529-e7fc-7a2061391c35"
      },
      "execution_count": 245,
      "outputs": [
        {
          "output_type": "stream",
          "name": "stdout",
          "text": [
            "10\n"
          ]
        }
      ]
    },
    {
      "cell_type": "code",
      "source": [
        "#print(입력_받은_값 > 5) 에러발생"
      ],
      "metadata": {
        "id": "xrKYL-4gZ3lC"
      },
      "execution_count": 247,
      "outputs": []
    },
    {
      "cell_type": "code",
      "source": [
        "print(type(입력_받은_값))"
      ],
      "metadata": {
        "colab": {
          "base_uri": "https://localhost:8080/"
        },
        "id": "hsmMFOnTaccv",
        "outputId": "356e4651-efe0-4469-e5f6-731f03512ddc"
      },
      "execution_count": 249,
      "outputs": [
        {
          "output_type": "stream",
          "name": "stdout",
          "text": [
            "<class 'str'>\n"
          ]
        }
      ]
    },
    {
      "cell_type": "code",
      "source": [
        "입력받은숫자 = int(입력_받은_값)"
      ],
      "metadata": {
        "id": "4toF6D3aai09"
      },
      "execution_count": 255,
      "outputs": []
    },
    {
      "cell_type": "code",
      "source": [
        "print(type(입력받은숫자))"
      ],
      "metadata": {
        "colab": {
          "base_uri": "https://localhost:8080/"
        },
        "id": "TQoUaA4Aaloq",
        "outputId": "356ae17a-94b5-4009-94fa-03ebeebe822e"
      },
      "execution_count": 256,
      "outputs": [
        {
          "output_type": "stream",
          "name": "stdout",
          "text": [
            "<class 'int'>\n"
          ]
        }
      ]
    },
    {
      "cell_type": "code",
      "source": [
        "입력_받은_값2=int(input())"
      ],
      "metadata": {
        "colab": {
          "base_uri": "https://localhost:8080/"
        },
        "id": "CY3zsmp4aKk2",
        "outputId": "6dc67583-1fba-4940-9047-6cc8ee255bcb"
      },
      "execution_count": 254,
      "outputs": [
        {
          "name": "stdout",
          "output_type": "stream",
          "text": [
            "11\n"
          ]
        }
      ]
    },
    {
      "cell_type": "code",
      "source": [
        "# 숫자 2개를 입력 받아서 비교함\n",
        "a = int(input(\"첫번째 숫자를 입력해 주세요.\"))\n",
        "b = int(input(\"두번째 숫자를 입력해 주세요.\"))\n",
        "if (a>b):\n",
        "    print(\"첫번째 숫자가 큽니다.\")\n",
        "elif (a==b):\n",
        "    print(\"숫자가 같습니다.\")\n",
        "else:\n",
        "    print(\"두번째 숫자가 큽니다.\")"
      ],
      "metadata": {
        "colab": {
          "base_uri": "https://localhost:8080/"
        },
        "id": "3X9E3qgYaZUI",
        "outputId": "6d49666f-3793-4ab0-bd3d-15eeec109198"
      },
      "execution_count": 257,
      "outputs": [
        {
          "output_type": "stream",
          "name": "stdout",
          "text": [
            "첫번째 숫자를 입력해 주세요.13\n",
            "두번째 숫자를 입력해 주세요.15\n",
            "두번째 숫자가 큽니다.\n"
          ]
        }
      ]
    },
    {
      "cell_type": "code",
      "source": [
        "c,d = input(\"두 숫자를 띄어쓰기로 입력해주세요\").split()\n",
        "C = int(c)\n",
        "D = int(d)\n",
        "if (C>D):\n",
        "    print(\"첫번째 숫자가 큽니다.\")\n",
        "elif (C==D):\n",
        "    print(\"숫자가 같습니다.\")\n",
        "else:\n",
        "    print(\"두번째 숫자가 큽니다.\")"
      ],
      "metadata": {
        "colab": {
          "base_uri": "https://localhost:8080/"
        },
        "id": "Ip8FjlD6bNpT",
        "outputId": "b21df591-becc-4674-c69d-5131fbdb9c70"
      },
      "execution_count": 259,
      "outputs": [
        {
          "output_type": "stream",
          "name": "stdout",
          "text": [
            "두 숫자를 띄어쓰기로 입력해주세요1 10\n",
            "두번째 숫자가 큽니다.\n"
          ]
        }
      ]
    },
    {
      "cell_type": "code",
      "source": [
        "\"\"\"\n",
        "c,d = int(input(\"두 숫자를 띄어쓰기로 입력해주세요\").split())  input(\"두 숫자를 띄어쓰기로 입력해주세요\").split()=> 배열임. 따라서 숫자로 못바꿈.\n",
        "if (c>d):\n",
        "    print(\"첫번째 숫자가 큽니다.\")\n",
        "elif (c==d):\n",
        "    print(\"숫자가 같습니다.\")\n",
        "else:\n",
        "    print(\"두번째 숫자가 큽니다.\")\n",
        "\"\"\""
      ],
      "metadata": {
        "colab": {
          "base_uri": "https://localhost:8080/",
          "height": 54
        },
        "id": "dwObRIYrbvLz",
        "outputId": "01dec8a6-eda1-456c-cfde-d87d616c15d6"
      },
      "execution_count": 261,
      "outputs": [
        {
          "output_type": "execute_result",
          "data": {
            "text/plain": [
              "'\\nc,d = int(input(\"두 숫자를 띄어쓰기로 입력해주세요\").split())  input(\"두 숫자를 띄어쓰기로 입력해주세요\").split()=> 배열임. 따라서 숫자로 못바꿈.\\nif (c>d):\\n    print(\"첫번째 숫자가 큽니다.\")\\nelif (c==d):\\n    print(\"숫자가 같습니다.\")\\nelse:\\n    print(\"두번째 숫자가 큽니다.\")\\n'"
            ],
            "application/vnd.google.colaboratory.intrinsic+json": {
              "type": "string"
            }
          },
          "metadata": {},
          "execution_count": 261
        }
      ]
    },
    {
      "cell_type": "markdown",
      "source": [
        "#반복문"
      ],
      "metadata": {
        "id": "HFigEKNSe-aM"
      }
    },
    {
      "cell_type": "code",
      "source": [
        "# while Ture 인 동안: \n",
        "카운트 = 0\n",
        "while 카운트<10:\n",
        "    print(카운트)\n",
        "    카운트+=1\n"
      ],
      "metadata": {
        "colab": {
          "base_uri": "https://localhost:8080/"
        },
        "id": "oKON9-q-cd-7",
        "outputId": "d109069b-af4c-4693-8da9-23ac3e6fd547"
      },
      "execution_count": 262,
      "outputs": [
        {
          "output_type": "stream",
          "name": "stdout",
          "text": [
            "0\n",
            "1\n",
            "2\n",
            "3\n",
            "4\n",
            "5\n",
            "6\n",
            "7\n",
            "8\n",
            "9\n"
          ]
        }
      ]
    },
    {
      "cell_type": "code",
      "source": [
        "카운트 = 0\n",
        "while 카운트<10:\n",
        "    print(카운트)\n",
        "    카운트+=1\n",
        "    break\n",
        "#break는 깨고 나온다는 의미."
      ],
      "metadata": {
        "colab": {
          "base_uri": "https://localhost:8080/"
        },
        "id": "_4gbFg3ufhNj",
        "outputId": "4f3f8bf8-5aff-4de0-9cbd-c9c9031d769c"
      },
      "execution_count": 264,
      "outputs": [
        {
          "output_type": "stream",
          "name": "stdout",
          "text": [
            "0\n"
          ]
        }
      ]
    },
    {
      "cell_type": "code",
      "source": [
        "카운트 = 0\n",
        "while 카운트<10:\n",
        "    print(카운트)\n",
        "    카운트+=1\n",
        "    if (카운트 ==6):\n",
        "        break"
      ],
      "metadata": {
        "colab": {
          "base_uri": "https://localhost:8080/"
        },
        "id": "7_Jv4VjVf2vT",
        "outputId": "61065834-606c-42c4-e52b-6649fa9b4b7a"
      },
      "execution_count": 266,
      "outputs": [
        {
          "output_type": "stream",
          "name": "stdout",
          "text": [
            "0\n",
            "1\n",
            "2\n",
            "3\n",
            "4\n",
            "5\n"
          ]
        }
      ]
    },
    {
      "cell_type": "code",
      "source": [
        "카운트 = 0\n",
        "while 카운트<10:\n",
        "    카운트+=1\n",
        "    if (카운트 ==1):\n",
        "        continue # continue가 나오면 다음 루프로 넘어간다 밑에 명령을 실행하지 않고\n",
        "\n",
        "    if (카운트%2 == 1):\n",
        "        print(카운트)\n",
        "    \n",
        "        "
      ],
      "metadata": {
        "colab": {
          "base_uri": "https://localhost:8080/"
        },
        "id": "SlaSiZPhgO3B",
        "outputId": "a25cada5-69db-4b26-e3e4-56f56549ca76"
      },
      "execution_count": 271,
      "outputs": [
        {
          "output_type": "stream",
          "name": "stdout",
          "text": [
            "3\n",
            "5\n",
            "7\n",
            "9\n"
          ]
        }
      ]
    },
    {
      "cell_type": "code",
      "source": [
        "for 숫자 in [0,1,2,3,4]:\n",
        "    print(숫자)"
      ],
      "metadata": {
        "colab": {
          "base_uri": "https://localhost:8080/"
        },
        "id": "rCkySt1Tgj4T",
        "outputId": "9065794c-5570-430b-b6af-bb140ee4f5b3"
      },
      "execution_count": 272,
      "outputs": [
        {
          "output_type": "stream",
          "name": "stdout",
          "text": [
            "0\n",
            "1\n",
            "2\n",
            "3\n",
            "4\n"
          ]
        }
      ]
    },
    {
      "cell_type": "code",
      "source": [
        "for 숫자 in [10,1,2,3,4]:\n",
        "    print(숫자)"
      ],
      "metadata": {
        "colab": {
          "base_uri": "https://localhost:8080/"
        },
        "id": "L0616henh142",
        "outputId": "a5ff267a-b1ef-4a01-a8e8-defa3056ec3b"
      },
      "execution_count": 273,
      "outputs": [
        {
          "output_type": "stream",
          "name": "stdout",
          "text": [
            "10\n",
            "1\n",
            "2\n",
            "3\n",
            "4\n"
          ]
        }
      ]
    },
    {
      "cell_type": "code",
      "source": [
        "문자 = \"hello\"\n",
        "print(문자[0])"
      ],
      "metadata": {
        "colab": {
          "base_uri": "https://localhost:8080/"
        },
        "id": "GQ9DGzNAh59j",
        "outputId": "7fd9f5d4-0049-43dc-91cf-65c8473fe8b5"
      },
      "execution_count": 274,
      "outputs": [
        {
          "output_type": "stream",
          "name": "stdout",
          "text": [
            "h\n"
          ]
        }
      ]
    },
    {
      "cell_type": "code",
      "source": [
        "for 숫자 in (10,1,2,3,4):\n",
        "    print(숫자)"
      ],
      "metadata": {
        "colab": {
          "base_uri": "https://localhost:8080/"
        },
        "id": "D4_nXY5-iE8B",
        "outputId": "05d9a14e-9e69-41ac-9a68-7c3b99022c58"
      },
      "execution_count": 275,
      "outputs": [
        {
          "output_type": "stream",
          "name": "stdout",
          "text": [
            "10\n",
            "1\n",
            "2\n",
            "3\n",
            "4\n"
          ]
        }
      ]
    },
    {
      "cell_type": "code",
      "source": [
        "#for 인자 in 순서가 있는 값 -> 인자가 순서가 있는 값을 갖는 동안 반복"
      ],
      "metadata": {
        "id": "UW6azqDfiKQ1"
      },
      "execution_count": 276,
      "outputs": []
    },
    {
      "cell_type": "code",
      "source": [
        "for 숫자 in 문자:\n",
        "    print(숫자)"
      ],
      "metadata": {
        "colab": {
          "base_uri": "https://localhost:8080/"
        },
        "id": "Ea_hEIviiTlu",
        "outputId": "bb6f3c7c-2f4d-4377-ca1a-a195f0f4426b"
      },
      "execution_count": 277,
      "outputs": [
        {
          "output_type": "stream",
          "name": "stdout",
          "text": [
            "h\n",
            "e\n",
            "l\n",
            "l\n",
            "o\n"
          ]
        }
      ]
    },
    {
      "cell_type": "code",
      "source": [
        "레인지 = range(10)\n",
        "print(레인지)#순서가 있다."
      ],
      "metadata": {
        "colab": {
          "base_uri": "https://localhost:8080/"
        },
        "id": "6dTTbTibiU8G",
        "outputId": "4a4ef094-2390-4e79-8c29-6bbe7373f11f"
      },
      "execution_count": 279,
      "outputs": [
        {
          "output_type": "stream",
          "name": "stdout",
          "text": [
            "range(0, 10)\n"
          ]
        }
      ]
    },
    {
      "cell_type": "code",
      "source": [
        "for k in range(10):\n",
        "    print(k)"
      ],
      "metadata": {
        "colab": {
          "base_uri": "https://localhost:8080/"
        },
        "id": "GVZVzQrJih3e",
        "outputId": "e3b737f6-189c-441c-9ec9-20d6df2d7ba7"
      },
      "execution_count": 280,
      "outputs": [
        {
          "output_type": "stream",
          "name": "stdout",
          "text": [
            "0\n",
            "1\n",
            "2\n",
            "3\n",
            "4\n",
            "5\n",
            "6\n",
            "7\n",
            "8\n",
            "9\n"
          ]
        }
      ]
    },
    {
      "cell_type": "code",
      "source": [
        "for k in range(10):\n",
        "    if (k%2 == 0):\n",
        "        print(k)"
      ],
      "metadata": {
        "colab": {
          "base_uri": "https://localhost:8080/"
        },
        "id": "d-XytvhZisxi",
        "outputId": "3e4f6d04-ccf1-4a7a-ccac-08927e9887e9"
      },
      "execution_count": 281,
      "outputs": [
        {
          "output_type": "stream",
          "name": "stdout",
          "text": [
            "0\n",
            "2\n",
            "4\n",
            "6\n",
            "8\n"
          ]
        }
      ]
    },
    {
      "cell_type": "code",
      "source": [
        "for k in range(10):\n",
        "    if (k%2 == 1):\n",
        "        print(k)"
      ],
      "metadata": {
        "colab": {
          "base_uri": "https://localhost:8080/"
        },
        "id": "K7sncd4bi8Q9",
        "outputId": "3a00ea95-ced6-4749-9972-d1740905166b"
      },
      "execution_count": 282,
      "outputs": [
        {
          "output_type": "stream",
          "name": "stdout",
          "text": [
            "1\n",
            "3\n",
            "5\n",
            "7\n",
            "9\n"
          ]
        }
      ]
    },
    {
      "cell_type": "code",
      "source": [
        "for a in range(10):\n",
        "    for s in range(5):\n",
        "        print(a,s)"
      ],
      "metadata": {
        "colab": {
          "base_uri": "https://localhost:8080/"
        },
        "id": "CGDBjqyCjBZN",
        "outputId": "6bb931c5-2fed-48aa-f7da-51651e6a88ee"
      },
      "execution_count": 283,
      "outputs": [
        {
          "output_type": "stream",
          "name": "stdout",
          "text": [
            "0 0\n",
            "0 1\n",
            "0 2\n",
            "0 3\n",
            "0 4\n",
            "1 0\n",
            "1 1\n",
            "1 2\n",
            "1 3\n",
            "1 4\n",
            "2 0\n",
            "2 1\n",
            "2 2\n",
            "2 3\n",
            "2 4\n",
            "3 0\n",
            "3 1\n",
            "3 2\n",
            "3 3\n",
            "3 4\n",
            "4 0\n",
            "4 1\n",
            "4 2\n",
            "4 3\n",
            "4 4\n",
            "5 0\n",
            "5 1\n",
            "5 2\n",
            "5 3\n",
            "5 4\n",
            "6 0\n",
            "6 1\n",
            "6 2\n",
            "6 3\n",
            "6 4\n",
            "7 0\n",
            "7 1\n",
            "7 2\n",
            "7 3\n",
            "7 4\n",
            "8 0\n",
            "8 1\n",
            "8 2\n",
            "8 3\n",
            "8 4\n",
            "9 0\n",
            "9 1\n",
            "9 2\n",
            "9 3\n",
            "9 4\n"
          ]
        }
      ]
    },
    {
      "cell_type": "code",
      "source": [
        "for k in range(1,10):\n",
        "    for x in range(1,10):\n",
        "        print(k,\"*\",x, '=', k*x)"
      ],
      "metadata": {
        "colab": {
          "base_uri": "https://localhost:8080/"
        },
        "id": "wLHishZVjNSN",
        "outputId": "b419fd71-679e-459e-eb2a-6548dd338746"
      },
      "execution_count": 293,
      "outputs": [
        {
          "output_type": "stream",
          "name": "stdout",
          "text": [
            "1 * 1 = 1\n",
            "1 * 2 = 2\n",
            "1 * 3 = 3\n",
            "1 * 4 = 4\n",
            "1 * 5 = 5\n",
            "1 * 6 = 6\n",
            "1 * 7 = 7\n",
            "1 * 8 = 8\n",
            "1 * 9 = 9\n",
            "2 * 1 = 2\n",
            "2 * 2 = 4\n",
            "2 * 3 = 6\n",
            "2 * 4 = 8\n",
            "2 * 5 = 10\n",
            "2 * 6 = 12\n",
            "2 * 7 = 14\n",
            "2 * 8 = 16\n",
            "2 * 9 = 18\n",
            "3 * 1 = 3\n",
            "3 * 2 = 6\n",
            "3 * 3 = 9\n",
            "3 * 4 = 12\n",
            "3 * 5 = 15\n",
            "3 * 6 = 18\n",
            "3 * 7 = 21\n",
            "3 * 8 = 24\n",
            "3 * 9 = 27\n",
            "4 * 1 = 4\n",
            "4 * 2 = 8\n",
            "4 * 3 = 12\n",
            "4 * 4 = 16\n",
            "4 * 5 = 20\n",
            "4 * 6 = 24\n",
            "4 * 7 = 28\n",
            "4 * 8 = 32\n",
            "4 * 9 = 36\n",
            "5 * 1 = 5\n",
            "5 * 2 = 10\n",
            "5 * 3 = 15\n",
            "5 * 4 = 20\n",
            "5 * 5 = 25\n",
            "5 * 6 = 30\n",
            "5 * 7 = 35\n",
            "5 * 8 = 40\n",
            "5 * 9 = 45\n",
            "6 * 1 = 6\n",
            "6 * 2 = 12\n",
            "6 * 3 = 18\n",
            "6 * 4 = 24\n",
            "6 * 5 = 30\n",
            "6 * 6 = 36\n",
            "6 * 7 = 42\n",
            "6 * 8 = 48\n",
            "6 * 9 = 54\n",
            "7 * 1 = 7\n",
            "7 * 2 = 14\n",
            "7 * 3 = 21\n",
            "7 * 4 = 28\n",
            "7 * 5 = 35\n",
            "7 * 6 = 42\n",
            "7 * 7 = 49\n",
            "7 * 8 = 56\n",
            "7 * 9 = 63\n",
            "8 * 1 = 8\n",
            "8 * 2 = 16\n",
            "8 * 3 = 24\n",
            "8 * 4 = 32\n",
            "8 * 5 = 40\n",
            "8 * 6 = 48\n",
            "8 * 7 = 56\n",
            "8 * 8 = 64\n",
            "8 * 9 = 72\n",
            "9 * 1 = 9\n",
            "9 * 2 = 18\n",
            "9 * 3 = 27\n",
            "9 * 4 = 36\n",
            "9 * 5 = 45\n",
            "9 * 6 = 54\n",
            "9 * 7 = 63\n",
            "9 * 8 = 72\n",
            "9 * 9 = 81\n"
          ]
        }
      ]
    },
    {
      "cell_type": "code",
      "source": [
        "for k in range(1,10):\n",
        "    for x in range(1,10):\n",
        "        식 = str(k)+\"*\"+str(x)\n",
        "        결과 = str(k*x)\n",
        "        print(식+\"=\"+결과,end=\"\")"
      ],
      "metadata": {
        "colab": {
          "base_uri": "https://localhost:8080/"
        },
        "id": "lxSJBsM4jiJX",
        "outputId": "6d3fe1a8-b76c-4c84-8829-2d988999e135"
      },
      "execution_count": 298,
      "outputs": [
        {
          "output_type": "stream",
          "name": "stdout",
          "text": [
            "1*1=11*2=21*3=31*4=41*5=51*6=61*7=71*8=81*9=92*1=22*2=42*3=62*4=82*5=102*6=122*7=142*8=162*9=183*1=33*2=63*3=93*4=123*5=153*6=183*7=213*8=243*9=274*1=44*2=84*3=124*4=164*5=204*6=244*7=284*8=324*9=365*1=55*2=105*3=155*4=205*5=255*6=305*7=355*8=405*9=456*1=66*2=126*3=186*4=246*5=306*6=366*7=426*8=486*9=547*1=77*2=147*3=217*4=287*5=357*6=427*7=497*8=567*9=638*1=88*2=168*3=248*4=328*5=408*6=488*7=568*8=648*9=729*1=99*2=189*3=279*4=369*5=459*6=549*7=639*8=729*9=81"
          ]
        }
      ]
    },
    {
      "cell_type": "code",
      "source": [
        "for k in range(1,10):\n",
        "    for x in range(1,10):\n",
        "        식 = str(k)+\"*\"+str(x)\n",
        "        결과 = str(k*x)\n",
        "        print(식+\"=\"+결과,end=\"\")\n",
        "    print(\"\\n\")"
      ],
      "metadata": {
        "colab": {
          "base_uri": "https://localhost:8080/"
        },
        "id": "OF80vIwikYDb",
        "outputId": "c6cb3998-b647-42e3-e3d8-802db6562bb2"
      },
      "execution_count": 297,
      "outputs": [
        {
          "output_type": "stream",
          "name": "stdout",
          "text": [
            "1*1=11*2=21*3=31*4=41*5=51*6=61*7=71*8=81*9=9\n",
            "\n",
            "2*1=22*2=42*3=62*4=82*5=102*6=122*7=142*8=162*9=18\n",
            "\n",
            "3*1=33*2=63*3=93*4=123*5=153*6=183*7=213*8=243*9=27\n",
            "\n",
            "4*1=44*2=84*3=124*4=164*5=204*6=244*7=284*8=324*9=36\n",
            "\n",
            "5*1=55*2=105*3=155*4=205*5=255*6=305*7=355*8=405*9=45\n",
            "\n",
            "6*1=66*2=126*3=186*4=246*5=306*6=366*7=426*8=486*9=54\n",
            "\n",
            "7*1=77*2=147*3=217*4=287*5=357*6=427*7=497*8=567*9=63\n",
            "\n",
            "8*1=88*2=168*3=248*4=328*5=408*6=488*7=568*8=648*9=72\n",
            "\n",
            "9*1=99*2=189*3=279*4=369*5=459*6=549*7=639*8=729*9=81\n",
            "\n"
          ]
        }
      ]
    },
    {
      "cell_type": "code",
      "source": [
        "# 아래 로직 계속 실행\n",
        "#1부터 9까지만 입력을 받을 수 있음 -> 음수도 생각해야지\n",
        "#그 값의 구구단을 출력\n",
        "#0을 입력하면 종료\n",
        "while True:\n",
        "    k= int(input(\"1부터 9까지의 수를 입력해주세요. 정지를 원하시면 0을 입력해주세요.\"))\n",
        "    if (k==0):\n",
        "        break\n",
        "    if (k>9 or k<0):\n",
        "        continue\n",
        "    for x in range(1,10):\n",
        "        print(k,\"*\",x,\"=\",k*x)"
      ],
      "metadata": {
        "colab": {
          "base_uri": "https://localhost:8080/"
        },
        "id": "qLsN6lT_k4cN",
        "outputId": "4324c71c-6d8a-47d5-9f99-c7fcaf4f277d"
      },
      "execution_count": 305,
      "outputs": [
        {
          "name": "stdout",
          "output_type": "stream",
          "text": [
            "1부터 9까지의 수를 입력해주세요. 정지를 원하시면 0을 입력해주세요.-1\n",
            "1부터 9까지의 수를 입력해주세요. 정지를 원하시면 0을 입력해주세요.90\n",
            "1부터 9까지의 수를 입력해주세요. 정지를 원하시면 0을 입력해주세요.0\n"
          ]
        }
      ]
    },
    {
      "cell_type": "code",
      "source": [
        ""
      ],
      "metadata": {
        "id": "NZl1R1P3mvkZ"
      },
      "execution_count": null,
      "outputs": []
    }
  ]
}